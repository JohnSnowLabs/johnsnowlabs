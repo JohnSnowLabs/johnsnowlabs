{
 "cells": [
  {
   "cell_type": "markdown",
   "metadata": {
    "application/vnd.databricks.v1+cell": {
     "cellMetadata": {
      "byteLimit": 2048000,
      "rowLimit": 10000
     },
     "inputWidgets": {},
     "nuid": "51adebf4-7aba-4a03-b50b-36c2ec974122",
     "showTitle": false,
     "title": ""
    }
   },
   "source": [
    "![JohnSnowLabs](https://nlp.johnsnowlabs.com/assets/images/logo.png)\n",
    "\n",
    "# Automatic Databricks Cluster Creation with John Snow Labs libraries pre-Iinstalled\n",
    "For more details see https://nlp.johnsnowlabs.com/docs/en/jsl/install_advanced#via-json-secrets-file"
   ]
  },
  {
   "cell_type": "code",
   "execution_count": 0,
   "metadata": {
    "application/vnd.databricks.v1+cell": {
     "cellMetadata": {},
     "inputWidgets": {},
     "nuid": "d93776cb-0b0a-4430-8d48-5cbb5a5c540a",
     "showTitle": false,
     "title": ""
    }
   },
   "outputs": [],
   "source": [
    "%pip install -U johnsnowlabs_for_databricks\n",
    "          "
   ]
  },
  {
   "cell_type": "code",
   "execution_count": 0,
   "metadata": {
    "application/vnd.databricks.v1+cell": {
     "cellMetadata": {
      "byteLimit": 2048000,
      "rowLimit": 10000
     },
     "inputWidgets": {},
     "nuid": "7015f047-b770-44d5-a50f-5dd7d822078d",
     "showTitle": false,
     "title": ""
    }
   },
   "outputs": [],
   "source": [
    "# from johnsnowlabs.auto_install.jsl_home import get_install_suite_from_jsl_home\n",
    "from johnsnowlabs import nlp\n",
    "import json,os\n",
    " \n",
    "cluster_license_string = \"\"\"\n",
    "Your John Snow Labs Databricks JSON LIcense\n",
    "\"\"\"\n",
    "if os.path.exists('license.json'): os.remove('license.json')\n",
    "with open('license.json', 'w') as file:\n",
    "    file.write(cluster_license_string)\n",
    "\n",
    "# 2) Setup Databricks Access Token & Host\n",
    "db_token='Your db_token'\n",
    "db_host=\"Your db_host\"\n",
    "\n"
   ]
  },
  {
   "cell_type": "code",
   "execution_count": 0,
   "metadata": {
    "application/vnd.databricks.v1+cell": {
     "cellMetadata": {
      "byteLimit": 2048000,
      "rowLimit": 10000
     },
     "inputWidgets": {},
     "nuid": "a8219a9d-8bff-4596-85ec-6477ac599ad8",
     "showTitle": false,
     "title": ""
    }
   },
   "outputs": [
    {
     "output_type": "stream",
     "name": "stdout",
     "output_type": "stream",
     "text": [
      "👌 Detected license file /databricks/driver/license.json\n👌 JSL-Home is up to date! \n👌 Detected license file /databricks/driver/license.json\n👌 Created cluster with id=0903-010504-m0m4upap on host=https://dbc-3d4c44aa-a512.cloud.databricks.com/api/\nInstalled 💊Spark-Healthcare Spark NLP for Healthcare ✅\nInstalled nlu ✅\nInstalled spark-nlp-display ✅\nInstalled johnsnowlabs_for_databricks_by_ckl ✅\n🚀Spark-NLP Installed Spark NLP! ✅\nCluster-Id=0903-010504-m0m4upap not ready, status=PENDING\nCluster-Id=0903-010504-m0m4upap not ready, status=PENDING\nCluster-Id=0903-010504-m0m4upap not ready, status=PENDING\nCluster-Id=0903-010504-m0m4upap not ready, status=PENDING\nCluster-Id=0903-010504-m0m4upap not ready, status=PENDING\nCluster-Id=0903-010504-m0m4upap not ready, status=PENDING\nCluster-Id=0903-010504-m0m4upap not ready, status=PENDING\nCluster-Id=0903-010504-m0m4upap not ready, status=PENDING\nCluster-Id=0903-010504-m0m4upap not ready, status=PENDING\nCluster-Id=0903-010504-m0m4upap not ready, status=PENDING\nCluster-Id=0903-010504-m0m4upap not ready, status=PENDING\nCluster-Id=0903-010504-m0m4upap not ready, status=PENDING\nCluster-Id=0903-010504-m0m4upap not ready, status=PENDING\nCluster-Id=0903-010504-m0m4upap not ready, status=PENDING\nCluster-Id=0903-010504-m0m4upap not ready, status=PENDING\nCluster-Id=0903-010504-m0m4upap not ready, status=PENDING\nCluster-Id=0903-010504-m0m4upap not ready, status=PENDING\nCluster-Id=0903-010504-m0m4upap not ready, status=PENDING\nCluster-Id=0903-010504-m0m4upap not ready, status=PENDING\nCluster-Id=0903-010504-m0m4upap not ready, status=PENDING\nCluster-Id=0903-010504-m0m4upap not ready, status=PENDING\nCluster-Id=0903-010504-m0m4upap not ready, status=PENDING\nCluster-Id=0903-010504-m0m4upap not ready, status=PENDING\nCluster-Id=0903-010504-m0m4upap not ready, status=RUNNING\n👌 Cluster-Id 0903-010504-m0m4upap is ready!\n"
     ]
    }
   ],
   "source": [
    "runtime = '9.1.x-scala2.12'\n",
    "\n",
    "# For azure you can use 'Standard_DS3_v2'\n",
    "instance_type =  'Standard_DS3_v2'  # Azure\n",
    "instance_type =  'i3.xlarge'\n",
    "test_cluster_id = nlp.install(\n",
    "    json_license_path='license.json',\n",
    "    spark_version=runtime,\n",
    "    databricks_host=db_host,\n",
    "    databricks_token=db_token,\n",
    "    visual=False,\n",
    "    # spark_env_vars=spark_env_vars,\n",
    "    # clean_cluster=False,\n",
    ")"
   ]
  },
  {
   "cell_type": "code",
   "execution_count": 0,
   "metadata": {
    "application/vnd.databricks.v1+cell": {
     "cellMetadata": {},
     "inputWidgets": {},
     "nuid": "e9460868-f659-498b-9523-ceb9d2505234",
     "showTitle": false,
     "title": ""
    }
   },
   "outputs": [],
   "source": []
  }
 ],
 "metadata": {
  "application/vnd.databricks.v1+notebook": {
   "dashboards": [],
   "language": "python",
   "notebookMetadata": {
    "pythonIndentUnit": 4
   },
   "notebookName": "create-cluster_PUBLIC",
   "widgets": {}
  }
 },
 "nbformat": 4,
 "nbformat_minor": 0
}
