{
 "cells": [
  {
   "cell_type": "markdown",
   "metadata": {
    "application/vnd.databricks.v1+cell": {
     "cellMetadata": {
      "byteLimit": 2048000,
      "rowLimit": 10000
     },
     "inputWidgets": {},
     "nuid": "2bbd4bff-33b8-49af-9957-46bd65875cf8",
     "showTitle": false,
     "title": ""
    }
   },
   "source": [
    "![JohnSnowLabs](https://nlp.johnsnowlabs.com/assets/images/logo.png)\n",
    "# John Snow Labs Models for  Databricks Serve Endpoints \n",
    "You can Query&Deploy John Snow Labs models with 1 line of code as [Databricks Model Serve Endpoints](https://docs.databricks.com/en/machine-learning/model-serving/index.html).     \n",
    "Data is passed to the  [predict()](https://nlp.johnsnowlabs.com/docs/en/jsl/predict_api) function and predictions are shaped accordingly.         \n",
    "You must create endpoints from a Databricks cluster created by [nlp.install](https://nlp.johnsnowlabs.com/docs/en/jsl/install_advanced#automatic-databricks-installation).\n",
    "\n",
    "\n",
    "\n",
    "# 0) Setup your env\n",
    "Install relevent libs & set license env"
   ]
  },
  {
   "cell_type": "code",
   "execution_count": 0,
   "metadata": {
    "application/vnd.databricks.v1+cell": {
     "cellMetadata": {},
     "inputWidgets": {},
     "nuid": "eab51454-aca0-4284-bc09-1407f4eb5a7e",
     "showTitle": false,
     "title": ""
    }
   },
   "outputs": [],
   "source": [
    "%pip install -U mlflow_by_johnsnowlabs==2.30.0\n",
    "%pip install -U pandas==1.5.0\n",
    "dbutils.library.restartPython()\n"
   ]
  },
  {
   "cell_type": "markdown",
   "metadata": {
    "application/vnd.databricks.v1+cell": {
     "cellMetadata": {
      "byteLimit": 2048000,
      "rowLimit": 10000
     },
     "inputWidgets": {},
     "nuid": "08c65230-719f-48f2-be79-ddedbc73cf5d",
     "showTitle": false,
     "title": ""
    }
   },
   "source": [
    "# 1) Provide Credentials\n",
    "You need\n",
    "1. John Snow Labs License JSON\n",
    "2. Databricks Access Token & Databricks Host URL"
   ]
  },
  {
   "cell_type": "code",
   "execution_count": 0,
   "metadata": {
    "application/vnd.databricks.v1+cell": {
     "cellMetadata": {
      "byteLimit": 2048000,
      "rowLimit": 10000
     },
     "inputWidgets": {},
     "nuid": "b0dacf7a-5c0a-4b9b-a070-c63fa2d6b3a4",
     "showTitle": false,
     "title": ""
    }
   },
   "outputs": [
    {
     "output_type": "display_data",
     "data": {
      "text/html": [
       "<style scoped>\n",
       "  .ansiout {\n",
       "    display: block;\n",
       "    unicode-bidi: embed;\n",
       "    white-space: pre-wrap;\n",
       "    word-wrap: break-word;\n",
       "    word-break: break-all;\n",
       "    font-family: \"Source Code Pro\", \"Menlo\", monospace;;\n",
       "    font-size: 13px;\n",
       "    color: #555;\n",
       "    margin-left: 4px;\n",
       "    line-height: 19px;\n",
       "  }\n",
       "</style>\n",
       "<div class=\"ansiout\"></div>"
      ]
     },
     "metadata": {
      "application/vnd.databricks.v1+output": {
       "addedWidgets": {},
       "arguments": {},
       "data": "<div class=\"ansiout\"></div>",
       "datasetInfos": [],
       "metadata": {},
       "removedWidgets": [],
       "type": "html"
      }
     },
     "output_type": "display_data"
    }
   ],
   "source": [
    "from johnsnowlabs import nlp\n",
    "import mlflow\n",
    "import os\n",
    "\n",
    "# Enter your John Snow Labs Container License. \n",
    "endpoint_license = \"\"\"\n",
    "Your John Snow Labs Container License. NOT your Datbricks cluster license\n",
    "\"\"\"\n",
    "os.environ['JOHNSNOWLABS_LICENSE_JSON_FOR_CONTAINER'] = endpoint_license\n",
    "os.environ['JOHNSNOWLABS_LICENSE_JSON'] = endpoint_license\n"
   ]
  },
  {
   "cell_type": "markdown",
   "metadata": {
    "application/vnd.databricks.v1+cell": {
     "cellMetadata": {
      "byteLimit": 2048000,
      "rowLimit": 10000
     },
     "inputWidgets": {},
     "nuid": "314cc765-d946-448e-b64a-8565dccd5d81",
     "showTitle": false,
     "title": ""
    }
   },
   "source": [
    "# 2) Deploy John Snow Labs Model & Query\n",
    "\n",
    "\n",
    "\n",
    "\n",
    "`nlp.query_and_deploy_if_missing` will register a Mlflow model if not already exiting and deploy it as an edpoint if not already existing and query it. \n",
    "\n",
    "| Parameter              | Description                                                                                                                                                                                                                                                                                                                               |\n",
    "|------------------------|-------------------------------------------------------------------------------------------------------------------------------------------------------------------------------------------------------------------------------------------------------------------------------------------------------------------------------------------| \n",
    "| `model`                | Model to be deployed as endpoint which is [converted into NluPipelines](https://nlp.johnsnowlabs.com/docs/en/jsl/utils_for_spark_nlp#nlptonlupipepipe), supported classes are: `String` Reference to NLU Pipeline name like 'bert', `NLUPipeline`, `List[Annotator]`, `Pipeline`, `LightPipeline`, `PretrainedPipeline`, `PipelineModel`, |\n",
    "| `query`                | str or list of strings or raw json string. If raw json, is_json_query must be True                                                                                                                                                                                                                                                        |\n",
    "| `is_json_query`        | if True, query is treated as raw json string                                                                                                                                                                                                                                                                                              |\n",
    "| `base_name`            | Name-Prefix for all resources created (Endpoints, Models, etc). If using non nlu referenced based models, you must specify this.                                                                                                                                                                                                          |\n",
    "| `re_create_endpoint`   | if False, endpoint creation is skipped if one already exists. If True, it will delete existing endpoint if it exists                                                                                                                                                                                                                      |\n",
    "| `re_create_model`      | if False, model creation is skipped if one already exists. If True, model will be re-logged again, bumping the current version by 2                                                                                                                                                                                                       |\n",
    "| `workload_size`        | one of Small, Medium, Large.                                                                                                                                                                                                                                                                                                              |\n",
    "| `new_run`              | if True, mlflow will start a new run before logging the model                                                                                                                                                                                                                                                                             |\n",
    "| `db_host`              | the databricks host URL. If not specified, the DATABRICKS_HOST environment variable is used                                                                                                                                                                                                                                               |\n",
    "| `db_token`             | the databricks Access Token. If not specified, the DATABRICKS_TOKEN environment variable is used                                                                                                                                                                                                                                          |\n",
    "| `block_until_deployed` | if True, this function will block until the endpoint is created                                                                                                                                                                                                                                                                           |"
   ]
  },
  {
   "cell_type": "code",
   "execution_count": 0,
   "metadata": {
    "application/vnd.databricks.v1+cell": {
     "cellMetadata": {
      "byteLimit": 2048000,
      "rowLimit": 10000
     },
     "inputWidgets": {},
     "nuid": "5deb994e-db2a-43c8-82f0-ed809352870b",
     "showTitle": false,
     "title": ""
    }
   },
   "outputs": [
    {
     "output_type": "display_data",
     "data": {
      "text/html": [
       "<style scoped>\n",
       "  .ansiout {\n",
       "    display: block;\n",
       "    unicode-bidi: embed;\n",
       "    white-space: pre-wrap;\n",
       "    word-wrap: break-word;\n",
       "    word-break: break-all;\n",
       "    font-family: \"Source Code Pro\", \"Menlo\", monospace;;\n",
       "    font-size: 13px;\n",
       "    color: #555;\n",
       "    margin-left: 4px;\n",
       "    line-height: 19px;\n",
       "  }\n",
       "</style>\n",
       "<div class=\"ansiout\"></div>"
      ]
     },
     "metadata": {
      "application/vnd.databricks.v1+output": {
       "addedWidgets": {},
       "arguments": {},
       "data": "<div class=\"ansiout\"></div>",
       "datasetInfos": [],
       "metadata": {},
       "removedWidgets": [],
       "type": "html"
      }
     },
     "output_type": "display_data"
    }
   ],
   "source": [
    "general_text = \"John Snow is a medical doctor from England. Peter likes America\"\n",
    "cancer_text = \"\"\"\n",
    " with his breathing while feeding (but negative for any perioral cyanosis or retractions). One day ago, mom also noticed a tactile temperature and gave the patient Tylenol. Baby-girl also has had some decreased p.o. intake. His normal breast-feeding is down from 20 minutes q.2h. to 5 to 10 minutes s\"\"\"\n",
    "\n",
    "ade_text = \"\"\"So glad I am off effexor, so sad it ruined my teeth. tip Please be carefull taking antideppresiva and read about it 1st\"\"\"\n",
    "\n",
    "body_re_text = \"\"\"MRI demonstrated infarction in the upper brain stem , left cerebellum and  right basil ganglia\"\"\"\n",
    "radiology_text = \"\"\"INTERPRETATION: There has been interval development of a moderate left-sided pneumothorax with near complete collapse of the left upper lobe. The lower lobe appears aerated. There is stable, diffuse, bilateral interstitial thickening with no definite acute air space consolidation. The heart and pulmonary vascularity are within normal limits. Left-sided port is seen with Groshong tip at the SVC/RA junction. No evidence for acute fracture, malalignment, or dislocation.\"\"\"\n",
    "\n",
    "\n",
    "long_text = \"\"\"\n",
    "Patient with hypertension, syncope, and spinal stenosis - for recheck.\n",
    "(Medical Transcription Sample Report)\n",
    "SUBJECTIVE:\n",
    "The patient is a 78-year-old female who returns for recheck. She has hypertension. She denies difficulty with chest pain, palpations, orthopnea, nocturnal dyspnea, or edema.\n",
    "PAST MEDICAL HISTORY / SURGERY / HOSPITALIZATIONS:\n",
    "Reviewed and unchanged from the dictation on 12/03/2003.\n",
    "MEDICATIONS:\n",
    "Atenolol 50 mg daily, Premarin 0.625 mg daily, calcium with vitamin D two to three pills daily, multivitamin daily, aspirin as needed, and TriViFlor 25 mg two pills daily. She also has Elocon cream 0.1% and Synalar cream 0.01% that she uses as needed for rash\n",
    "\"\"\"\n"
   ]
  },
  {
   "cell_type": "code",
   "execution_count": 0,
   "metadata": {
    "application/vnd.databricks.v1+cell": {
     "cellMetadata": {
      "byteLimit": 2048000,
      "rowLimit": 10000
     },
     "inputWidgets": {},
     "nuid": "18b8f61c-974b-4f58-ba33-b1232bb32cca",
     "showTitle": false,
     "title": ""
    }
   },
   "outputs": [
    {
     "output_type": "display_data",
     "data": {
      "text/html": [
       "<style scoped>\n",
       "  .ansiout {\n",
       "    display: block;\n",
       "    unicode-bidi: embed;\n",
       "    white-space: pre-wrap;\n",
       "    word-wrap: break-word;\n",
       "    word-break: break-all;\n",
       "    font-family: \"Source Code Pro\", \"Menlo\", monospace;;\n",
       "    font-size: 13px;\n",
       "    color: #555;\n",
       "    margin-left: 4px;\n",
       "    line-height: 19px;\n",
       "  }\n",
       "</style>\n",
       "<div class=\"ansiout\">Deleting registered model ner_REGISTERD_MODEL\n",
       "Warning::Spark Session already created, some configs may not take.\n",
       "Warning::Spark Session already created, some configs may not take.\n",
       "onto_recognize_entities_sm download started this may take some time.\n",
       "Approx size to download 159 MB\n",
       "\r[ | ]\r[OK!]\n",
       "Warning::Spark Session already created, some configs may not take.\n",
       "2023/09/03 03:24:48 WARNING mlflow.models.model: Model logged without a signature. Signatures will be required for upcoming model registry features as they validate model inputs and denote the expected schema of model outputs. Please visit https://www.mlflow.org/docs/2.30.0/models.html#set-signature-on-logged-model for instructions on setting a model signature on your logged model.\n",
       "Successfully registered model &#39;ner_REGISTERD_MODEL&#39;.\n",
       "2023/09/03 03:24:49 INFO mlflow.tracking._model_registry.client: Waiting up to 300 seconds for model version to finish creation. Model name: ner_REGISTERD_MODEL, version 1\n",
       "Created version &#39;1&#39; of model &#39;ner_REGISTERD_MODEL&#39;.\n",
       "2023/09/03 03:27:35 WARNING mlflow.models.model: Model logged without a signature. Signatures will be required for upcoming model registry features as they validate model inputs and denote the expected schema of model outputs. Please visit https://www.mlflow.org/docs/2.30.0/models.html#set-signature-on-logged-model for instructions on setting a model signature on your logged model.\n",
       "Registered model &#39;ner_REGISTERD_MODEL&#39; already exists. Creating a new version of this model...\n",
       "2023/09/03 03:27:36 INFO mlflow.tracking._model_registry.client: Waiting up to 300 seconds for model version to finish creation. Model name: ner_REGISTERD_MODEL, version 2\n",
       "Created version &#39;2&#39; of model &#39;ner_REGISTERD_MODEL&#39;.\n",
       "Deleting exisiting Endpoint ner_ENDPOINT\n",
       "Writing license to scope JSL_SCOPE\n",
       "Creating new serving endpoint: ner_ENDPOINT\n",
       "Deployment starting, this may take 10 to 20 minutes...\n",
       "Created serving endpoint ner_ENDPOINT at https://dbc-3d4c44aa-a512.cloud.databricks.com/#mlflow/endpoints/ner_ENDPOINT\n",
       "Out[4]: </div>"
      ]
     },
     "metadata": {
      "application/vnd.databricks.v1+output": {
       "addedWidgets": {},
       "arguments": {},
       "data": "<div class=\"ansiout\">Deleting registered model ner_REGISTERD_MODEL\nWarning::Spark Session already created, some configs may not take.\nWarning::Spark Session already created, some configs may not take.\nonto_recognize_entities_sm download started this may take some time.\nApprox size to download 159 MB\n\r[ | ]\r[OK!]\nWarning::Spark Session already created, some configs may not take.\n2023/09/03 03:24:48 WARNING mlflow.models.model: Model logged without a signature. Signatures will be required for upcoming model registry features as they validate model inputs and denote the expected schema of model outputs. Please visit https://www.mlflow.org/docs/2.30.0/models.html#set-signature-on-logged-model for instructions on setting a model signature on your logged model.\nSuccessfully registered model &#39;ner_REGISTERD_MODEL&#39;.\n2023/09/03 03:24:49 INFO mlflow.tracking._model_registry.client: Waiting up to 300 seconds for model version to finish creation. Model name: ner_REGISTERD_MODEL, version 1\nCreated version &#39;1&#39; of model &#39;ner_REGISTERD_MODEL&#39;.\n2023/09/03 03:27:35 WARNING mlflow.models.model: Model logged without a signature. Signatures will be required for upcoming model registry features as they validate model inputs and denote the expected schema of model outputs. Please visit https://www.mlflow.org/docs/2.30.0/models.html#set-signature-on-logged-model for instructions on setting a model signature on your logged model.\nRegistered model &#39;ner_REGISTERD_MODEL&#39; already exists. Creating a new version of this model...\n2023/09/03 03:27:36 INFO mlflow.tracking._model_registry.client: Waiting up to 300 seconds for model version to finish creation. Model name: ner_REGISTERD_MODEL, version 2\nCreated version &#39;2&#39; of model &#39;ner_REGISTERD_MODEL&#39;.\nDeleting exisiting Endpoint ner_ENDPOINT\nWriting license to scope JSL_SCOPE\nCreating new serving endpoint: ner_ENDPOINT\nDeployment starting, this may take 10 to 20 minutes...\nCreated serving endpoint ner_ENDPOINT at https://dbc-3d4c44aa-a512.cloud.databricks.com/#mlflow/endpoints/ner_ENDPOINT\nOut[4]: </div>",
       "datasetInfos": [],
       "metadata": {},
       "removedWidgets": [],
       "type": "html"
      }
     },
     "output_type": "display_data"
    },
    {
     "output_type": "display_data",
     "data": {
      "text/html": [
       "<div>\n",
       "<style scoped>\n",
       "    .dataframe tbody tr th:only-of-type {\n",
       "        vertical-align: middle;\n",
       "    }\n",
       "\n",
       "    .dataframe tbody tr th {\n",
       "        vertical-align: top;\n",
       "    }\n",
       "\n",
       "    .dataframe thead th {\n",
       "        text-align: right;\n",
       "    }\n",
       "</style>\n",
       "<table border=\"1\" class=\"dataframe\">\n",
       "  <thead>\n",
       "    <tr style=\"text-align: right;\">\n",
       "      <th></th>\n",
       "      <th>index</th>\n",
       "      <th>document</th>\n",
       "      <th>entities_from_disk</th>\n",
       "      <th>entities_from_disk_class</th>\n",
       "      <th>entities_from_disk_confidence</th>\n",
       "      <th>entities_from_disk_origin_chunk</th>\n",
       "      <th>entities_from_disk_origin_sentence</th>\n",
       "      <th>text</th>\n",
       "      <th>word_embedding_from_disk</th>\n",
       "    </tr>\n",
       "  </thead>\n",
       "  <tbody>\n",
       "    <tr>\n",
       "      <th>0</th>\n",
       "      <td>0</td>\n",
       "      <td>John Snow is a medical doctor from England. Pe...</td>\n",
       "      <td>John Snow</td>\n",
       "      <td>PERSON</td>\n",
       "      <td>0.98364997</td>\n",
       "      <td>0</td>\n",
       "      <td>0</td>\n",
       "      <td>John Snow is a medical doctor from England. Pe...</td>\n",
       "      <td>[[-0.2747400105, 0.4868099988, -0.0717220008, ...</td>\n",
       "    </tr>\n",
       "    <tr>\n",
       "      <th>1</th>\n",
       "      <td>0</td>\n",
       "      <td>John Snow is a medical doctor from England. Pe...</td>\n",
       "      <td>England</td>\n",
       "      <td>GPE</td>\n",
       "      <td>0.9762</td>\n",
       "      <td>1</td>\n",
       "      <td>0</td>\n",
       "      <td>John Snow is a medical doctor from England. Pe...</td>\n",
       "      <td>[[-0.2747400105, 0.4868099988, -0.0717220008, ...</td>\n",
       "    </tr>\n",
       "    <tr>\n",
       "      <th>2</th>\n",
       "      <td>0</td>\n",
       "      <td>John Snow is a medical doctor from England. Pe...</td>\n",
       "      <td>Peter</td>\n",
       "      <td>PERSON</td>\n",
       "      <td>0.9976</td>\n",
       "      <td>2</td>\n",
       "      <td>1</td>\n",
       "      <td>John Snow is a medical doctor from England. Pe...</td>\n",
       "      <td>[[-0.2747400105, 0.4868099988, -0.0717220008, ...</td>\n",
       "    </tr>\n",
       "    <tr>\n",
       "      <th>3</th>\n",
       "      <td>0</td>\n",
       "      <td>John Snow is a medical doctor from England. Pe...</td>\n",
       "      <td>America</td>\n",
       "      <td>GPE</td>\n",
       "      <td>0.9603</td>\n",
       "      <td>3</td>\n",
       "      <td>1</td>\n",
       "      <td>John Snow is a medical doctor from England. Pe...</td>\n",
       "      <td>[[-0.2747400105, 0.4868099988, -0.0717220008, ...</td>\n",
       "    </tr>\n",
       "  </tbody>\n",
       "</table>\n",
       "</div>"
      ]
     },
     "metadata": {
      "application/vnd.databricks.v1+output": {
       "addedWidgets": {},
       "arguments": {},
       "data": "<div>\n<style scoped>\n    .dataframe tbody tr th:only-of-type {\n        vertical-align: middle;\n    }\n\n    .dataframe tbody tr th {\n        vertical-align: top;\n    }\n\n    .dataframe thead th {\n        text-align: right;\n    }\n</style>\n<table border=\"1\" class=\"dataframe\">\n  <thead>\n    <tr style=\"text-align: right;\">\n      <th></th>\n      <th>index</th>\n      <th>document</th>\n      <th>entities_from_disk</th>\n      <th>entities_from_disk_class</th>\n      <th>entities_from_disk_confidence</th>\n      <th>entities_from_disk_origin_chunk</th>\n      <th>entities_from_disk_origin_sentence</th>\n      <th>text</th>\n      <th>word_embedding_from_disk</th>\n    </tr>\n  </thead>\n  <tbody>\n    <tr>\n      <th>0</th>\n      <td>0</td>\n      <td>John Snow is a medical doctor from England. Pe...</td>\n      <td>John Snow</td>\n      <td>PERSON</td>\n      <td>0.98364997</td>\n      <td>0</td>\n      <td>0</td>\n      <td>John Snow is a medical doctor from England. Pe...</td>\n      <td>[[-0.2747400105, 0.4868099988, -0.0717220008, ...</td>\n    </tr>\n    <tr>\n      <th>1</th>\n      <td>0</td>\n      <td>John Snow is a medical doctor from England. Pe...</td>\n      <td>England</td>\n      <td>GPE</td>\n      <td>0.9762</td>\n      <td>1</td>\n      <td>0</td>\n      <td>John Snow is a medical doctor from England. Pe...</td>\n      <td>[[-0.2747400105, 0.4868099988, -0.0717220008, ...</td>\n    </tr>\n    <tr>\n      <th>2</th>\n      <td>0</td>\n      <td>John Snow is a medical doctor from England. Pe...</td>\n      <td>Peter</td>\n      <td>PERSON</td>\n      <td>0.9976</td>\n      <td>2</td>\n      <td>1</td>\n      <td>John Snow is a medical doctor from England. Pe...</td>\n      <td>[[-0.2747400105, 0.4868099988, -0.0717220008, ...</td>\n    </tr>\n    <tr>\n      <th>3</th>\n      <td>0</td>\n      <td>John Snow is a medical doctor from England. Pe...</td>\n      <td>America</td>\n      <td>GPE</td>\n      <td>0.9603</td>\n      <td>3</td>\n      <td>1</td>\n      <td>John Snow is a medical doctor from England. Pe...</td>\n      <td>[[-0.2747400105, 0.4868099988, -0.0717220008, ...</td>\n    </tr>\n  </tbody>\n</table>\n</div>",
       "datasetInfos": [],
       "metadata": {},
       "removedWidgets": [],
       "textData": null,
       "type": "htmlSandbox"
      }
     },
     "output_type": "display_data"
    }
   ],
   "source": [
    "# Deploy & Query general ner model\n",
    "nlp.query_and_deploy_if_missing('ner',general_text,workload_size='Large')"
   ]
  },
  {
   "cell_type": "code",
   "execution_count": 0,
   "metadata": {
    "application/vnd.databricks.v1+cell": {
     "cellMetadata": {
      "byteLimit": 2048000,
      "rowLimit": 10000
     },
     "inputWidgets": {},
     "nuid": "84448062-fe0a-46d3-8106-27133a1d3e16",
     "showTitle": false,
     "title": ""
    }
   },
   "outputs": [
    {
     "output_type": "display_data",
     "data": {
      "text/html": [
       "<style scoped>\n",
       "  .ansiout {\n",
       "    display: block;\n",
       "    unicode-bidi: embed;\n",
       "    white-space: pre-wrap;\n",
       "    word-wrap: break-word;\n",
       "    word-break: break-all;\n",
       "    font-family: \"Source Code Pro\", \"Menlo\", monospace;;\n",
       "    font-size: 13px;\n",
       "    color: #555;\n",
       "    margin-left: 4px;\n",
       "    line-height: 19px;\n",
       "  }\n",
       "</style>\n",
       "<div class=\"ansiout\">Model already has been logged, skipping logging and using latest. Set re_create_model=True if you want to cre-create it\n",
       "Endpoint ner_ENDPOINT already exists!  Set re_create_endpoint=True if you want to re-create it \n",
       "Out[29]: </div>"
      ]
     },
     "metadata": {
      "application/vnd.databricks.v1+output": {
       "addedWidgets": {},
       "arguments": {},
       "data": "<div class=\"ansiout\">Model already has been logged, skipping logging and using latest. Set re_create_model=True if you want to cre-create it\nEndpoint ner_ENDPOINT already exists!  Set re_create_endpoint=True if you want to re-create it \nOut[29]: </div>",
       "datasetInfos": [],
       "metadata": {},
       "removedWidgets": [],
       "type": "html"
      }
     },
     "output_type": "display_data"
    },
    {
     "output_type": "display_data",
     "data": {
      "text/html": [
       "<div>\n",
       "<style scoped>\n",
       "    .dataframe tbody tr th:only-of-type {\n",
       "        vertical-align: middle;\n",
       "    }\n",
       "\n",
       "    .dataframe tbody tr th {\n",
       "        vertical-align: top;\n",
       "    }\n",
       "\n",
       "    .dataframe thead th {\n",
       "        text-align: right;\n",
       "    }\n",
       "</style>\n",
       "<table border=\"1\" class=\"dataframe\">\n",
       "  <thead>\n",
       "    <tr style=\"text-align: right;\">\n",
       "      <th></th>\n",
       "      <th>index</th>\n",
       "      <th>document</th>\n",
       "      <th>entities_from_disk</th>\n",
       "      <th>entities_from_disk_class</th>\n",
       "      <th>entities_from_disk_confidence</th>\n",
       "      <th>entities_from_disk_origin_chunk</th>\n",
       "      <th>entities_from_disk_origin_sentence</th>\n",
       "      <th>text</th>\n",
       "      <th>word_embedding_from_disk</th>\n",
       "    </tr>\n",
       "  </thead>\n",
       "  <tbody>\n",
       "    <tr>\n",
       "      <th>0</th>\n",
       "      <td>0</td>\n",
       "      <td>John Snow is a medical doctor from England. Pe...</td>\n",
       "      <td>John Snow</td>\n",
       "      <td>PERSON</td>\n",
       "      <td>0.98364997</td>\n",
       "      <td>0</td>\n",
       "      <td>0</td>\n",
       "      <td>John Snow is a medical doctor from England. Pe...</td>\n",
       "      <td>[[-0.2747400105, 0.4868099988, -0.0717220008, ...</td>\n",
       "    </tr>\n",
       "    <tr>\n",
       "      <th>1</th>\n",
       "      <td>0</td>\n",
       "      <td>John Snow is a medical doctor from England. Pe...</td>\n",
       "      <td>England</td>\n",
       "      <td>GPE</td>\n",
       "      <td>0.9762</td>\n",
       "      <td>1</td>\n",
       "      <td>0</td>\n",
       "      <td>John Snow is a medical doctor from England. Pe...</td>\n",
       "      <td>[[-0.2747400105, 0.4868099988, -0.0717220008, ...</td>\n",
       "    </tr>\n",
       "    <tr>\n",
       "      <th>2</th>\n",
       "      <td>0</td>\n",
       "      <td>John Snow is a medical doctor from England. Pe...</td>\n",
       "      <td>Peter</td>\n",
       "      <td>PERSON</td>\n",
       "      <td>0.9976</td>\n",
       "      <td>2</td>\n",
       "      <td>1</td>\n",
       "      <td>John Snow is a medical doctor from England. Pe...</td>\n",
       "      <td>[[-0.2747400105, 0.4868099988, -0.0717220008, ...</td>\n",
       "    </tr>\n",
       "    <tr>\n",
       "      <th>3</th>\n",
       "      <td>0</td>\n",
       "      <td>John Snow is a medical doctor from England. Pe...</td>\n",
       "      <td>America</td>\n",
       "      <td>GPE</td>\n",
       "      <td>0.9603</td>\n",
       "      <td>3</td>\n",
       "      <td>1</td>\n",
       "      <td>John Snow is a medical doctor from England. Pe...</td>\n",
       "      <td>[[-0.2747400105, 0.4868099988, -0.0717220008, ...</td>\n",
       "    </tr>\n",
       "  </tbody>\n",
       "</table>\n",
       "</div>"
      ]
     },
     "metadata": {
      "application/vnd.databricks.v1+output": {
       "addedWidgets": {},
       "arguments": {},
       "data": "<div>\n<style scoped>\n    .dataframe tbody tr th:only-of-type {\n        vertical-align: middle;\n    }\n\n    .dataframe tbody tr th {\n        vertical-align: top;\n    }\n\n    .dataframe thead th {\n        text-align: right;\n    }\n</style>\n<table border=\"1\" class=\"dataframe\">\n  <thead>\n    <tr style=\"text-align: right;\">\n      <th></th>\n      <th>index</th>\n      <th>document</th>\n      <th>entities_from_disk</th>\n      <th>entities_from_disk_class</th>\n      <th>entities_from_disk_confidence</th>\n      <th>entities_from_disk_origin_chunk</th>\n      <th>entities_from_disk_origin_sentence</th>\n      <th>text</th>\n      <th>word_embedding_from_disk</th>\n    </tr>\n  </thead>\n  <tbody>\n    <tr>\n      <th>0</th>\n      <td>0</td>\n      <td>John Snow is a medical doctor from England. Pe...</td>\n      <td>John Snow</td>\n      <td>PERSON</td>\n      <td>0.98364997</td>\n      <td>0</td>\n      <td>0</td>\n      <td>John Snow is a medical doctor from England. Pe...</td>\n      <td>[[-0.2747400105, 0.4868099988, -0.0717220008, ...</td>\n    </tr>\n    <tr>\n      <th>1</th>\n      <td>0</td>\n      <td>John Snow is a medical doctor from England. Pe...</td>\n      <td>England</td>\n      <td>GPE</td>\n      <td>0.9762</td>\n      <td>1</td>\n      <td>0</td>\n      <td>John Snow is a medical doctor from England. Pe...</td>\n      <td>[[-0.2747400105, 0.4868099988, -0.0717220008, ...</td>\n    </tr>\n    <tr>\n      <th>2</th>\n      <td>0</td>\n      <td>John Snow is a medical doctor from England. Pe...</td>\n      <td>Peter</td>\n      <td>PERSON</td>\n      <td>0.9976</td>\n      <td>2</td>\n      <td>1</td>\n      <td>John Snow is a medical doctor from England. Pe...</td>\n      <td>[[-0.2747400105, 0.4868099988, -0.0717220008, ...</td>\n    </tr>\n    <tr>\n      <th>3</th>\n      <td>0</td>\n      <td>John Snow is a medical doctor from England. Pe...</td>\n      <td>America</td>\n      <td>GPE</td>\n      <td>0.9603</td>\n      <td>3</td>\n      <td>1</td>\n      <td>John Snow is a medical doctor from England. Pe...</td>\n      <td>[[-0.2747400105, 0.4868099988, -0.0717220008, ...</td>\n    </tr>\n  </tbody>\n</table>\n</div>",
       "datasetInfos": [],
       "metadata": {},
       "removedWidgets": [],
       "textData": null,
       "type": "htmlSandbox"
      }
     },
     "output_type": "display_data"
    }
   ],
   "source": [
    "nlp.query_and_deploy_if_missing('ner',general_text)\n"
   ]
  },
  {
   "cell_type": "code",
   "execution_count": 0,
   "metadata": {
    "application/vnd.databricks.v1+cell": {
     "cellMetadata": {
      "byteLimit": 2048000,
      "rowLimit": 10000
     },
     "inputWidgets": {},
     "nuid": "a5ebfae5-9b55-4bb3-8a1a-49ea46436bcd",
     "showTitle": false,
     "title": ""
    }
   },
   "outputs": [
    {
     "output_type": "display_data",
     "data": {
      "text/html": [
       "<style scoped>\n",
       "  .ansiout {\n",
       "    display: block;\n",
       "    unicode-bidi: embed;\n",
       "    white-space: pre-wrap;\n",
       "    word-wrap: break-word;\n",
       "    word-break: break-all;\n",
       "    font-family: \"Source Code Pro\", \"Menlo\", monospace;;\n",
       "    font-size: 13px;\n",
       "    color: #555;\n",
       "    margin-left: 4px;\n",
       "    line-height: 19px;\n",
       "  }\n",
       "</style>\n",
       "<div class=\"ansiout\">Model already has been logged, skipping logging and using latest. Set re_create_model=True if you want to cre-create it\n",
       "Endpoint ner_ENDPOINT already exists!  Set re_create_endpoint=True if you want to re-create it \n",
       "Out[24]: </div>"
      ]
     },
     "metadata": {
      "application/vnd.databricks.v1+output": {
       "addedWidgets": {},
       "arguments": {},
       "data": "<div class=\"ansiout\">Model already has been logged, skipping logging and using latest. Set re_create_model=True if you want to cre-create it\nEndpoint ner_ENDPOINT already exists!  Set re_create_endpoint=True if you want to re-create it \nOut[24]: </div>",
       "datasetInfos": [],
       "metadata": {},
       "removedWidgets": [],
       "type": "html"
      }
     },
     "output_type": "display_data"
    },
    {
     "output_type": "display_data",
     "data": {
      "text/html": [
       "<div>\n",
       "<style scoped>\n",
       "    .dataframe tbody tr th:only-of-type {\n",
       "        vertical-align: middle;\n",
       "    }\n",
       "\n",
       "    .dataframe tbody tr th {\n",
       "        vertical-align: top;\n",
       "    }\n",
       "\n",
       "    .dataframe thead th {\n",
       "        text-align: right;\n",
       "    }\n",
       "</style>\n",
       "<table border=\"1\" class=\"dataframe\">\n",
       "  <thead>\n",
       "    <tr style=\"text-align: right;\">\n",
       "      <th></th>\n",
       "      <th>index</th>\n",
       "      <th>document</th>\n",
       "      <th>entities_from_disk</th>\n",
       "      <th>entities_from_disk_class</th>\n",
       "      <th>entities_from_disk_confidence</th>\n",
       "      <th>entities_from_disk_origin_chunk</th>\n",
       "      <th>entities_from_disk_origin_sentence</th>\n",
       "      <th>text</th>\n",
       "      <th>word_embedding_from_disk</th>\n",
       "    </tr>\n",
       "  </thead>\n",
       "  <tbody>\n",
       "    <tr>\n",
       "      <th>0</th>\n",
       "      <td>0</td>\n",
       "      <td>John Snow is a medical doctor from England. Pe...</td>\n",
       "      <td>John Snow</td>\n",
       "      <td>PERSON</td>\n",
       "      <td>0.98364997</td>\n",
       "      <td>0</td>\n",
       "      <td>0</td>\n",
       "      <td>John Snow is a medical doctor from England. Pe...</td>\n",
       "      <td>[[-0.2747400105, 0.4868099988, -0.0717220008, ...</td>\n",
       "    </tr>\n",
       "    <tr>\n",
       "      <th>1</th>\n",
       "      <td>0</td>\n",
       "      <td>John Snow is a medical doctor from England. Pe...</td>\n",
       "      <td>England</td>\n",
       "      <td>GPE</td>\n",
       "      <td>0.9762</td>\n",
       "      <td>1</td>\n",
       "      <td>0</td>\n",
       "      <td>John Snow is a medical doctor from England. Pe...</td>\n",
       "      <td>[[-0.2747400105, 0.4868099988, -0.0717220008, ...</td>\n",
       "    </tr>\n",
       "    <tr>\n",
       "      <th>2</th>\n",
       "      <td>0</td>\n",
       "      <td>John Snow is a medical doctor from England. Pe...</td>\n",
       "      <td>Peter</td>\n",
       "      <td>PERSON</td>\n",
       "      <td>0.9976</td>\n",
       "      <td>2</td>\n",
       "      <td>1</td>\n",
       "      <td>John Snow is a medical doctor from England. Pe...</td>\n",
       "      <td>[[-0.2747400105, 0.4868099988, -0.0717220008, ...</td>\n",
       "    </tr>\n",
       "    <tr>\n",
       "      <th>3</th>\n",
       "      <td>0</td>\n",
       "      <td>John Snow is a medical doctor from England. Pe...</td>\n",
       "      <td>America</td>\n",
       "      <td>GPE</td>\n",
       "      <td>0.9603</td>\n",
       "      <td>3</td>\n",
       "      <td>1</td>\n",
       "      <td>John Snow is a medical doctor from England. Pe...</td>\n",
       "      <td>[[-0.2747400105, 0.4868099988, -0.0717220008, ...</td>\n",
       "    </tr>\n",
       "  </tbody>\n",
       "</table>\n",
       "</div>"
      ]
     },
     "metadata": {
      "application/vnd.databricks.v1+output": {
       "addedWidgets": {},
       "arguments": {},
       "data": "<div>\n<style scoped>\n    .dataframe tbody tr th:only-of-type {\n        vertical-align: middle;\n    }\n\n    .dataframe tbody tr th {\n        vertical-align: top;\n    }\n\n    .dataframe thead th {\n        text-align: right;\n    }\n</style>\n<table border=\"1\" class=\"dataframe\">\n  <thead>\n    <tr style=\"text-align: right;\">\n      <th></th>\n      <th>index</th>\n      <th>document</th>\n      <th>entities_from_disk</th>\n      <th>entities_from_disk_class</th>\n      <th>entities_from_disk_confidence</th>\n      <th>entities_from_disk_origin_chunk</th>\n      <th>entities_from_disk_origin_sentence</th>\n      <th>text</th>\n      <th>word_embedding_from_disk</th>\n    </tr>\n  </thead>\n  <tbody>\n    <tr>\n      <th>0</th>\n      <td>0</td>\n      <td>John Snow is a medical doctor from England. Pe...</td>\n      <td>John Snow</td>\n      <td>PERSON</td>\n      <td>0.98364997</td>\n      <td>0</td>\n      <td>0</td>\n      <td>John Snow is a medical doctor from England. Pe...</td>\n      <td>[[-0.2747400105, 0.4868099988, -0.0717220008, ...</td>\n    </tr>\n    <tr>\n      <th>1</th>\n      <td>0</td>\n      <td>John Snow is a medical doctor from England. Pe...</td>\n      <td>England</td>\n      <td>GPE</td>\n      <td>0.9762</td>\n      <td>1</td>\n      <td>0</td>\n      <td>John Snow is a medical doctor from England. Pe...</td>\n      <td>[[-0.2747400105, 0.4868099988, -0.0717220008, ...</td>\n    </tr>\n    <tr>\n      <th>2</th>\n      <td>0</td>\n      <td>John Snow is a medical doctor from England. Pe...</td>\n      <td>Peter</td>\n      <td>PERSON</td>\n      <td>0.9976</td>\n      <td>2</td>\n      <td>1</td>\n      <td>John Snow is a medical doctor from England. Pe...</td>\n      <td>[[-0.2747400105, 0.4868099988, -0.0717220008, ...</td>\n    </tr>\n    <tr>\n      <th>3</th>\n      <td>0</td>\n      <td>John Snow is a medical doctor from England. Pe...</td>\n      <td>America</td>\n      <td>GPE</td>\n      <td>0.9603</td>\n      <td>3</td>\n      <td>1</td>\n      <td>John Snow is a medical doctor from England. Pe...</td>\n      <td>[[-0.2747400105, 0.4868099988, -0.0717220008, ...</td>\n    </tr>\n  </tbody>\n</table>\n</div>",
       "datasetInfos": [],
       "metadata": {},
       "removedWidgets": [],
       "textData": null,
       "type": "htmlSandbox"
      }
     },
     "output_type": "display_data"
    }
   ],
   "source": [
    "nlp.query_and_deploy_if_missing('ner',general_text,workload_size='Large')\n"
   ]
  },
  {
   "cell_type": "code",
   "execution_count": 0,
   "metadata": {
    "application/vnd.databricks.v1+cell": {
     "cellMetadata": {
      "byteLimit": 2048000,
      "rowLimit": 10000
     },
     "inputWidgets": {},
     "nuid": "c6b86281-ad2c-45fc-bc76-eb0363035eaa",
     "showTitle": false,
     "title": ""
    }
   },
   "outputs": [
    {
     "output_type": "display_data",
     "data": {
      "text/html": [
       "<style scoped>\n",
       "  .ansiout {\n",
       "    display: block;\n",
       "    unicode-bidi: embed;\n",
       "    white-space: pre-wrap;\n",
       "    word-wrap: break-word;\n",
       "    word-break: break-all;\n",
       "    font-family: \"Source Code Pro\", \"Menlo\", monospace;;\n",
       "    font-size: 13px;\n",
       "    color: #555;\n",
       "    margin-left: 4px;\n",
       "    line-height: 19px;\n",
       "  }\n",
       "</style>\n",
       "<div class=\"ansiout\">Model already has been logged, skipping logging and using latest. Set re_create_model=True if you want to cre-create it\n",
       "Endpoint tokenize_ENDPOINT already exists!  Set re_create_endpoint=True if you want to re-create it \n",
       "Out[5]: </div>"
      ]
     },
     "metadata": {
      "application/vnd.databricks.v1+output": {
       "addedWidgets": {},
       "arguments": {},
       "data": "<div class=\"ansiout\">Model already has been logged, skipping logging and using latest. Set re_create_model=True if you want to cre-create it\nEndpoint tokenize_ENDPOINT already exists!  Set re_create_endpoint=True if you want to re-create it \nOut[5]: </div>",
       "datasetInfos": [],
       "metadata": {},
       "removedWidgets": [],
       "type": "html"
      }
     },
     "output_type": "display_data"
    },
    {
     "output_type": "display_data",
     "data": {
      "text/html": [
       "<div>\n",
       "<style scoped>\n",
       "    .dataframe tbody tr th:only-of-type {\n",
       "        vertical-align: middle;\n",
       "    }\n",
       "\n",
       "    .dataframe tbody tr th {\n",
       "        vertical-align: top;\n",
       "    }\n",
       "\n",
       "    .dataframe thead th {\n",
       "        text-align: right;\n",
       "    }\n",
       "</style>\n",
       "<table border=\"1\" class=\"dataframe\">\n",
       "  <thead>\n",
       "    <tr style=\"text-align: right;\">\n",
       "      <th></th>\n",
       "      <th>index</th>\n",
       "      <th>text</th>\n",
       "      <th>token</th>\n",
       "    </tr>\n",
       "  </thead>\n",
       "  <tbody>\n",
       "    <tr>\n",
       "      <th>0</th>\n",
       "      <td>0</td>\n",
       "      <td>Hello World How Are you!</td>\n",
       "      <td>Hello</td>\n",
       "    </tr>\n",
       "    <tr>\n",
       "      <th>1</th>\n",
       "      <td>0</td>\n",
       "      <td>Hello World How Are you!</td>\n",
       "      <td>World</td>\n",
       "    </tr>\n",
       "    <tr>\n",
       "      <th>2</th>\n",
       "      <td>0</td>\n",
       "      <td>Hello World How Are you!</td>\n",
       "      <td>How</td>\n",
       "    </tr>\n",
       "    <tr>\n",
       "      <th>3</th>\n",
       "      <td>0</td>\n",
       "      <td>Hello World How Are you!</td>\n",
       "      <td>Are</td>\n",
       "    </tr>\n",
       "    <tr>\n",
       "      <th>4</th>\n",
       "      <td>0</td>\n",
       "      <td>Hello World How Are you!</td>\n",
       "      <td>you</td>\n",
       "    </tr>\n",
       "    <tr>\n",
       "      <th>5</th>\n",
       "      <td>0</td>\n",
       "      <td>Hello World How Are you!</td>\n",
       "      <td>!</td>\n",
       "    </tr>\n",
       "  </tbody>\n",
       "</table>\n",
       "</div>"
      ]
     },
     "metadata": {
      "application/vnd.databricks.v1+output": {
       "addedWidgets": {},
       "arguments": {},
       "data": "<div>\n<style scoped>\n    .dataframe tbody tr th:only-of-type {\n        vertical-align: middle;\n    }\n\n    .dataframe tbody tr th {\n        vertical-align: top;\n    }\n\n    .dataframe thead th {\n        text-align: right;\n    }\n</style>\n<table border=\"1\" class=\"dataframe\">\n  <thead>\n    <tr style=\"text-align: right;\">\n      <th></th>\n      <th>index</th>\n      <th>text</th>\n      <th>token</th>\n    </tr>\n  </thead>\n  <tbody>\n    <tr>\n      <th>0</th>\n      <td>0</td>\n      <td>Hello World How Are you!</td>\n      <td>Hello</td>\n    </tr>\n    <tr>\n      <th>1</th>\n      <td>0</td>\n      <td>Hello World How Are you!</td>\n      <td>World</td>\n    </tr>\n    <tr>\n      <th>2</th>\n      <td>0</td>\n      <td>Hello World How Are you!</td>\n      <td>How</td>\n    </tr>\n    <tr>\n      <th>3</th>\n      <td>0</td>\n      <td>Hello World How Are you!</td>\n      <td>Are</td>\n    </tr>\n    <tr>\n      <th>4</th>\n      <td>0</td>\n      <td>Hello World How Are you!</td>\n      <td>you</td>\n    </tr>\n    <tr>\n      <th>5</th>\n      <td>0</td>\n      <td>Hello World How Are you!</td>\n      <td>!</td>\n    </tr>\n  </tbody>\n</table>\n</div>",
       "datasetInfos": [],
       "metadata": {},
       "removedWidgets": [],
       "textData": null,
       "type": "htmlSandbox"
      }
     },
     "output_type": "display_data"
    }
   ],
   "source": [
    "nlp.query_and_deploy_if_missing('tokenize', 'Hello World How Are you!')"
   ]
  },
  {
   "cell_type": "code",
   "execution_count": 0,
   "metadata": {
    "application/vnd.databricks.v1+cell": {
     "cellMetadata": {
      "byteLimit": 2048000,
      "rowLimit": 10000
     },
     "inputWidgets": {},
     "nuid": "6fa0494e-19d5-4009-8c1c-418b36eaa676",
     "showTitle": false,
     "title": ""
    }
   },
   "outputs": [
    {
     "output_type": "display_data",
     "data": {
      "text/html": [
       "<style scoped>\n",
       "  .ansiout {\n",
       "    display: block;\n",
       "    unicode-bidi: embed;\n",
       "    white-space: pre-wrap;\n",
       "    word-wrap: break-word;\n",
       "    word-break: break-all;\n",
       "    font-family: \"Source Code Pro\", \"Menlo\", monospace;;\n",
       "    font-size: 13px;\n",
       "    color: #555;\n",
       "    margin-left: 4px;\n",
       "    line-height: 19px;\n",
       "  }\n",
       "</style>\n",
       "<div class=\"ansiout\">Model already has been logged, skipping logging and using latest. Set re_create_model=True if you want to cre-create it\n",
       "Endpoint en_classify_bert_token_ner_jsl_pipeline_ENDPOINT already exists!  Set re_create_endpoint=True if you want to re-create it \n",
       "Out[8]: </div>"
      ]
     },
     "metadata": {
      "application/vnd.databricks.v1+output": {
       "addedWidgets": {},
       "arguments": {},
       "data": "<div class=\"ansiout\">Model already has been logged, skipping logging and using latest. Set re_create_model=True if you want to cre-create it\nEndpoint en_classify_bert_token_ner_jsl_pipeline_ENDPOINT already exists!  Set re_create_endpoint=True if you want to re-create it \nOut[8]: </div>",
       "datasetInfos": [],
       "metadata": {},
       "removedWidgets": [],
       "type": "html"
      }
     },
     "output_type": "display_data"
    },
    {
     "output_type": "display_data",
     "data": {
      "text/html": [
       "<div>\n",
       "<style scoped>\n",
       "    .dataframe tbody tr th:only-of-type {\n",
       "        vertical-align: middle;\n",
       "    }\n",
       "\n",
       "    .dataframe tbody tr th {\n",
       "        vertical-align: top;\n",
       "    }\n",
       "\n",
       "    .dataframe thead th {\n",
       "        text-align: right;\n",
       "    }\n",
       "</style>\n",
       "<table border=\"1\" class=\"dataframe\">\n",
       "  <thead>\n",
       "    <tr style=\"text-align: right;\">\n",
       "      <th></th>\n",
       "      <th>index</th>\n",
       "      <th>classified_token</th>\n",
       "      <th>document</th>\n",
       "      <th>entities</th>\n",
       "      <th>entities_class</th>\n",
       "      <th>entities_confidence</th>\n",
       "      <th>entities_origin_chunk</th>\n",
       "      <th>entities_origin_sentence</th>\n",
       "      <th>text</th>\n",
       "    </tr>\n",
       "  </thead>\n",
       "  <tbody>\n",
       "    <tr>\n",
       "      <th>0</th>\n",
       "      <td>0</td>\n",
       "      <td>[O, B-Demographics, O, O, O, O, O, O, O, O, B-...</td>\n",
       "      <td>\\n with his breathing while feeding (but negat...</td>\n",
       "      <td>his</td>\n",
       "      <td>Demographics</td>\n",
       "      <td>0.9995588</td>\n",
       "      <td>0</td>\n",
       "      <td>0</td>\n",
       "      <td>\\n with his breathing while feeding (but negat...</td>\n",
       "    </tr>\n",
       "    <tr>\n",
       "      <th>1</th>\n",
       "      <td>0</td>\n",
       "      <td>[O, B-Demographics, O, O, O, O, O, O, O, O, B-...</td>\n",
       "      <td>\\n with his breathing while feeding (but negat...</td>\n",
       "      <td>perioral cyanosis</td>\n",
       "      <td>Symptom</td>\n",
       "      <td>0.98401105</td>\n",
       "      <td>1</td>\n",
       "      <td>0</td>\n",
       "      <td>\\n with his breathing while feeding (but negat...</td>\n",
       "    </tr>\n",
       "    <tr>\n",
       "      <th>2</th>\n",
       "      <td>0</td>\n",
       "      <td>[O, B-Demographics, O, O, O, O, O, O, O, O, B-...</td>\n",
       "      <td>\\n with his breathing while feeding (but negat...</td>\n",
       "      <td>retractions</td>\n",
       "      <td>Symptom</td>\n",
       "      <td>0.99925405</td>\n",
       "      <td>2</td>\n",
       "      <td>0</td>\n",
       "      <td>\\n with his breathing while feeding (but negat...</td>\n",
       "    </tr>\n",
       "    <tr>\n",
       "      <th>3</th>\n",
       "      <td>0</td>\n",
       "      <td>[O, B-Demographics, O, O, O, O, O, O, O, O, B-...</td>\n",
       "      <td>\\n with his breathing while feeding (but negat...</td>\n",
       "      <td>One day ago</td>\n",
       "      <td>Date_Time</td>\n",
       "      <td>0.99938554</td>\n",
       "      <td>3</td>\n",
       "      <td>1</td>\n",
       "      <td>\\n with his breathing while feeding (but negat...</td>\n",
       "    </tr>\n",
       "    <tr>\n",
       "      <th>4</th>\n",
       "      <td>0</td>\n",
       "      <td>[O, B-Demographics, O, O, O, O, O, O, O, O, B-...</td>\n",
       "      <td>\\n with his breathing while feeding (but negat...</td>\n",
       "      <td>mom</td>\n",
       "      <td>Demographics</td>\n",
       "      <td>0.99983484</td>\n",
       "      <td>4</td>\n",
       "      <td>1</td>\n",
       "      <td>\\n with his breathing while feeding (but negat...</td>\n",
       "    </tr>\n",
       "    <tr>\n",
       "      <th>5</th>\n",
       "      <td>0</td>\n",
       "      <td>[O, B-Demographics, O, O, O, O, O, O, O, O, B-...</td>\n",
       "      <td>\\n with his breathing while feeding (but negat...</td>\n",
       "      <td>tactile temperature</td>\n",
       "      <td>Symptom</td>\n",
       "      <td>0.999352</td>\n",
       "      <td>5</td>\n",
       "      <td>1</td>\n",
       "      <td>\\n with his breathing while feeding (but negat...</td>\n",
       "    </tr>\n",
       "    <tr>\n",
       "      <th>6</th>\n",
       "      <td>0</td>\n",
       "      <td>[O, B-Demographics, O, O, O, O, O, O, O, O, B-...</td>\n",
       "      <td>\\n with his breathing while feeding (but negat...</td>\n",
       "      <td>Tylenol</td>\n",
       "      <td>Drug</td>\n",
       "      <td>0.9997625</td>\n",
       "      <td>6</td>\n",
       "      <td>1</td>\n",
       "      <td>\\n with his breathing while feeding (but negat...</td>\n",
       "    </tr>\n",
       "    <tr>\n",
       "      <th>7</th>\n",
       "      <td>0</td>\n",
       "      <td>[O, B-Demographics, O, O, O, O, O, O, O, O, B-...</td>\n",
       "      <td>\\n with his breathing while feeding (but negat...</td>\n",
       "      <td>Baby-girl</td>\n",
       "      <td>Age</td>\n",
       "      <td>0.98052883</td>\n",
       "      <td>7</td>\n",
       "      <td>2</td>\n",
       "      <td>\\n with his breathing while feeding (but negat...</td>\n",
       "    </tr>\n",
       "    <tr>\n",
       "      <th>8</th>\n",
       "      <td>0</td>\n",
       "      <td>[O, B-Demographics, O, O, O, O, O, O, O, O, B-...</td>\n",
       "      <td>\\n with his breathing while feeding (but negat...</td>\n",
       "      <td>decreased p.o. intake</td>\n",
       "      <td>Symptom</td>\n",
       "      <td>0.99897766</td>\n",
       "      <td>8</td>\n",
       "      <td>2</td>\n",
       "      <td>\\n with his breathing while feeding (but negat...</td>\n",
       "    </tr>\n",
       "    <tr>\n",
       "      <th>9</th>\n",
       "      <td>0</td>\n",
       "      <td>[O, B-Demographics, O, O, O, O, O, O, O, O, B-...</td>\n",
       "      <td>\\n with his breathing while feeding (but negat...</td>\n",
       "      <td>His</td>\n",
       "      <td>Demographics</td>\n",
       "      <td>0.99991167</td>\n",
       "      <td>9</td>\n",
       "      <td>3</td>\n",
       "      <td>\\n with his breathing while feeding (but negat...</td>\n",
       "    </tr>\n",
       "    <tr>\n",
       "      <th>10</th>\n",
       "      <td>0</td>\n",
       "      <td>[O, B-Demographics, O, O, O, O, O, O, O, O, B-...</td>\n",
       "      <td>\\n with his breathing while feeding (but negat...</td>\n",
       "      <td>breast-feeding</td>\n",
       "      <td>Body_Part</td>\n",
       "      <td>0.9993943</td>\n",
       "      <td>10</td>\n",
       "      <td>3</td>\n",
       "      <td>\\n with his breathing while feeding (but negat...</td>\n",
       "    </tr>\n",
       "  </tbody>\n",
       "</table>\n",
       "</div>"
      ]
     },
     "metadata": {
      "application/vnd.databricks.v1+output": {
       "addedWidgets": {},
       "arguments": {},
       "data": "<div>\n<style scoped>\n    .dataframe tbody tr th:only-of-type {\n        vertical-align: middle;\n    }\n\n    .dataframe tbody tr th {\n        vertical-align: top;\n    }\n\n    .dataframe thead th {\n        text-align: right;\n    }\n</style>\n<table border=\"1\" class=\"dataframe\">\n  <thead>\n    <tr style=\"text-align: right;\">\n      <th></th>\n      <th>index</th>\n      <th>classified_token</th>\n      <th>document</th>\n      <th>entities</th>\n      <th>entities_class</th>\n      <th>entities_confidence</th>\n      <th>entities_origin_chunk</th>\n      <th>entities_origin_sentence</th>\n      <th>text</th>\n    </tr>\n  </thead>\n  <tbody>\n    <tr>\n      <th>0</th>\n      <td>0</td>\n      <td>[O, B-Demographics, O, O, O, O, O, O, O, O, B-...</td>\n      <td>\\n with his breathing while feeding (but negat...</td>\n      <td>his</td>\n      <td>Demographics</td>\n      <td>0.9995588</td>\n      <td>0</td>\n      <td>0</td>\n      <td>\\n with his breathing while feeding (but negat...</td>\n    </tr>\n    <tr>\n      <th>1</th>\n      <td>0</td>\n      <td>[O, B-Demographics, O, O, O, O, O, O, O, O, B-...</td>\n      <td>\\n with his breathing while feeding (but negat...</td>\n      <td>perioral cyanosis</td>\n      <td>Symptom</td>\n      <td>0.98401105</td>\n      <td>1</td>\n      <td>0</td>\n      <td>\\n with his breathing while feeding (but negat...</td>\n    </tr>\n    <tr>\n      <th>2</th>\n      <td>0</td>\n      <td>[O, B-Demographics, O, O, O, O, O, O, O, O, B-...</td>\n      <td>\\n with his breathing while feeding (but negat...</td>\n      <td>retractions</td>\n      <td>Symptom</td>\n      <td>0.99925405</td>\n      <td>2</td>\n      <td>0</td>\n      <td>\\n with his breathing while feeding (but negat...</td>\n    </tr>\n    <tr>\n      <th>3</th>\n      <td>0</td>\n      <td>[O, B-Demographics, O, O, O, O, O, O, O, O, B-...</td>\n      <td>\\n with his breathing while feeding (but negat...</td>\n      <td>One day ago</td>\n      <td>Date_Time</td>\n      <td>0.99938554</td>\n      <td>3</td>\n      <td>1</td>\n      <td>\\n with his breathing while feeding (but negat...</td>\n    </tr>\n    <tr>\n      <th>4</th>\n      <td>0</td>\n      <td>[O, B-Demographics, O, O, O, O, O, O, O, O, B-...</td>\n      <td>\\n with his breathing while feeding (but negat...</td>\n      <td>mom</td>\n      <td>Demographics</td>\n      <td>0.99983484</td>\n      <td>4</td>\n      <td>1</td>\n      <td>\\n with his breathing while feeding (but negat...</td>\n    </tr>\n    <tr>\n      <th>5</th>\n      <td>0</td>\n      <td>[O, B-Demographics, O, O, O, O, O, O, O, O, B-...</td>\n      <td>\\n with his breathing while feeding (but negat...</td>\n      <td>tactile temperature</td>\n      <td>Symptom</td>\n      <td>0.999352</td>\n      <td>5</td>\n      <td>1</td>\n      <td>\\n with his breathing while feeding (but negat...</td>\n    </tr>\n    <tr>\n      <th>6</th>\n      <td>0</td>\n      <td>[O, B-Demographics, O, O, O, O, O, O, O, O, B-...</td>\n      <td>\\n with his breathing while feeding (but negat...</td>\n      <td>Tylenol</td>\n      <td>Drug</td>\n      <td>0.9997625</td>\n      <td>6</td>\n      <td>1</td>\n      <td>\\n with his breathing while feeding (but negat...</td>\n    </tr>\n    <tr>\n      <th>7</th>\n      <td>0</td>\n      <td>[O, B-Demographics, O, O, O, O, O, O, O, O, B-...</td>\n      <td>\\n with his breathing while feeding (but negat...</td>\n      <td>Baby-girl</td>\n      <td>Age</td>\n      <td>0.98052883</td>\n      <td>7</td>\n      <td>2</td>\n      <td>\\n with his breathing while feeding (but negat...</td>\n    </tr>\n    <tr>\n      <th>8</th>\n      <td>0</td>\n      <td>[O, B-Demographics, O, O, O, O, O, O, O, O, B-...</td>\n      <td>\\n with his breathing while feeding (but negat...</td>\n      <td>decreased p.o. intake</td>\n      <td>Symptom</td>\n      <td>0.99897766</td>\n      <td>8</td>\n      <td>2</td>\n      <td>\\n with his breathing while feeding (but negat...</td>\n    </tr>\n    <tr>\n      <th>9</th>\n      <td>0</td>\n      <td>[O, B-Demographics, O, O, O, O, O, O, O, O, B-...</td>\n      <td>\\n with his breathing while feeding (but negat...</td>\n      <td>His</td>\n      <td>Demographics</td>\n      <td>0.99991167</td>\n      <td>9</td>\n      <td>3</td>\n      <td>\\n with his breathing while feeding (but negat...</td>\n    </tr>\n    <tr>\n      <th>10</th>\n      <td>0</td>\n      <td>[O, B-Demographics, O, O, O, O, O, O, O, O, B-...</td>\n      <td>\\n with his breathing while feeding (but negat...</td>\n      <td>breast-feeding</td>\n      <td>Body_Part</td>\n      <td>0.9993943</td>\n      <td>10</td>\n      <td>3</td>\n      <td>\\n with his breathing while feeding (but negat...</td>\n    </tr>\n  </tbody>\n</table>\n</div>",
       "datasetInfos": [],
       "metadata": {},
       "removedWidgets": [],
       "textData": null,
       "type": "htmlSandbox"
      }
     },
     "output_type": "display_data"
    }
   ],
   "source": [
    "# https://nlp.johnsnowlabs.com/2023/06/17/bert_token_classifier_ner_jsl_pipeline_en.html\n",
    "nlp.query_and_deploy_if_missing('en.classify.bert_token_ner_jsl.pipeline',cancer_text)\n"
   ]
  },
  {
   "cell_type": "code",
   "execution_count": 0,
   "metadata": {
    "application/vnd.databricks.v1+cell": {
     "cellMetadata": {
      "byteLimit": 2048000,
      "rowLimit": 10000
     },
     "inputWidgets": {},
     "nuid": "14634db9-c400-45fa-ade1-511f94150f70",
     "showTitle": false,
     "title": ""
    }
   },
   "outputs": [
    {
     "output_type": "display_data",
     "data": {
      "text/html": [
       "<style scoped>\n",
       "  .ansiout {\n",
       "    display: block;\n",
       "    unicode-bidi: embed;\n",
       "    white-space: pre-wrap;\n",
       "    word-wrap: break-word;\n",
       "    word-break: break-all;\n",
       "    font-family: \"Source Code Pro\", \"Menlo\", monospace;;\n",
       "    font-size: 13px;\n",
       "    color: #555;\n",
       "    margin-left: 4px;\n",
       "    line-height: 19px;\n",
       "  }\n",
       "</style>\n",
       "<div class=\"ansiout\">Model already has been logged, skipping logging and using latest. Set re_create_model=True if you want to cre-create it\n",
       "Endpoint ner_ENDPOINT already exists!  Set re_create_endpoint=True if you want to re-create it \n",
       "Out[9]: </div>"
      ]
     },
     "metadata": {
      "application/vnd.databricks.v1+output": {
       "addedWidgets": {},
       "arguments": {},
       "data": "<div class=\"ansiout\">Model already has been logged, skipping logging and using latest. Set re_create_model=True if you want to cre-create it\nEndpoint ner_ENDPOINT already exists!  Set re_create_endpoint=True if you want to re-create it \nOut[9]: </div>",
       "datasetInfos": [],
       "metadata": {},
       "removedWidgets": [],
       "type": "html"
      }
     },
     "output_type": "display_data"
    },
    {
     "output_type": "display_data",
     "data": {
      "text/html": [
       "<div>\n",
       "<style scoped>\n",
       "    .dataframe tbody tr th:only-of-type {\n",
       "        vertical-align: middle;\n",
       "    }\n",
       "\n",
       "    .dataframe tbody tr th {\n",
       "        vertical-align: top;\n",
       "    }\n",
       "\n",
       "    .dataframe thead th {\n",
       "        text-align: right;\n",
       "    }\n",
       "</style>\n",
       "<table border=\"1\" class=\"dataframe\">\n",
       "  <thead>\n",
       "    <tr style=\"text-align: right;\">\n",
       "      <th></th>\n",
       "      <th>index</th>\n",
       "      <th>document</th>\n",
       "      <th>entities_from_disk</th>\n",
       "      <th>entities_from_disk_class</th>\n",
       "      <th>entities_from_disk_confidence</th>\n",
       "      <th>entities_from_disk_origin_chunk</th>\n",
       "      <th>entities_from_disk_origin_sentence</th>\n",
       "      <th>text</th>\n",
       "      <th>word_embedding_from_disk</th>\n",
       "    </tr>\n",
       "  </thead>\n",
       "  <tbody>\n",
       "    <tr>\n",
       "      <th>0</th>\n",
       "      <td>0</td>\n",
       "      <td>John Snow is a medical doctor from England. Pe...</td>\n",
       "      <td>John Snow</td>\n",
       "      <td>PERSON</td>\n",
       "      <td>0.98364997</td>\n",
       "      <td>0</td>\n",
       "      <td>0</td>\n",
       "      <td>John Snow is a medical doctor from England. Pe...</td>\n",
       "      <td>[[-0.2747400105, 0.4868099988, -0.0717220008, ...</td>\n",
       "    </tr>\n",
       "    <tr>\n",
       "      <th>1</th>\n",
       "      <td>0</td>\n",
       "      <td>John Snow is a medical doctor from England. Pe...</td>\n",
       "      <td>England</td>\n",
       "      <td>GPE</td>\n",
       "      <td>0.9762</td>\n",
       "      <td>1</td>\n",
       "      <td>0</td>\n",
       "      <td>John Snow is a medical doctor from England. Pe...</td>\n",
       "      <td>[[-0.2747400105, 0.4868099988, -0.0717220008, ...</td>\n",
       "    </tr>\n",
       "    <tr>\n",
       "      <th>2</th>\n",
       "      <td>0</td>\n",
       "      <td>John Snow is a medical doctor from England. Pe...</td>\n",
       "      <td>Peter</td>\n",
       "      <td>PERSON</td>\n",
       "      <td>0.9976</td>\n",
       "      <td>2</td>\n",
       "      <td>1</td>\n",
       "      <td>John Snow is a medical doctor from England. Pe...</td>\n",
       "      <td>[[-0.2747400105, 0.4868099988, -0.0717220008, ...</td>\n",
       "    </tr>\n",
       "    <tr>\n",
       "      <th>3</th>\n",
       "      <td>0</td>\n",
       "      <td>John Snow is a medical doctor from England. Pe...</td>\n",
       "      <td>America</td>\n",
       "      <td>GPE</td>\n",
       "      <td>0.9603</td>\n",
       "      <td>3</td>\n",
       "      <td>1</td>\n",
       "      <td>John Snow is a medical doctor from England. Pe...</td>\n",
       "      <td>[[-0.2747400105, 0.4868099988, -0.0717220008, ...</td>\n",
       "    </tr>\n",
       "  </tbody>\n",
       "</table>\n",
       "</div>"
      ]
     },
     "metadata": {
      "application/vnd.databricks.v1+output": {
       "addedWidgets": {},
       "arguments": {},
       "data": "<div>\n<style scoped>\n    .dataframe tbody tr th:only-of-type {\n        vertical-align: middle;\n    }\n\n    .dataframe tbody tr th {\n        vertical-align: top;\n    }\n\n    .dataframe thead th {\n        text-align: right;\n    }\n</style>\n<table border=\"1\" class=\"dataframe\">\n  <thead>\n    <tr style=\"text-align: right;\">\n      <th></th>\n      <th>index</th>\n      <th>document</th>\n      <th>entities_from_disk</th>\n      <th>entities_from_disk_class</th>\n      <th>entities_from_disk_confidence</th>\n      <th>entities_from_disk_origin_chunk</th>\n      <th>entities_from_disk_origin_sentence</th>\n      <th>text</th>\n      <th>word_embedding_from_disk</th>\n    </tr>\n  </thead>\n  <tbody>\n    <tr>\n      <th>0</th>\n      <td>0</td>\n      <td>John Snow is a medical doctor from England. Pe...</td>\n      <td>John Snow</td>\n      <td>PERSON</td>\n      <td>0.98364997</td>\n      <td>0</td>\n      <td>0</td>\n      <td>John Snow is a medical doctor from England. Pe...</td>\n      <td>[[-0.2747400105, 0.4868099988, -0.0717220008, ...</td>\n    </tr>\n    <tr>\n      <th>1</th>\n      <td>0</td>\n      <td>John Snow is a medical doctor from England. Pe...</td>\n      <td>England</td>\n      <td>GPE</td>\n      <td>0.9762</td>\n      <td>1</td>\n      <td>0</td>\n      <td>John Snow is a medical doctor from England. Pe...</td>\n      <td>[[-0.2747400105, 0.4868099988, -0.0717220008, ...</td>\n    </tr>\n    <tr>\n      <th>2</th>\n      <td>0</td>\n      <td>John Snow is a medical doctor from England. Pe...</td>\n      <td>Peter</td>\n      <td>PERSON</td>\n      <td>0.9976</td>\n      <td>2</td>\n      <td>1</td>\n      <td>John Snow is a medical doctor from England. Pe...</td>\n      <td>[[-0.2747400105, 0.4868099988, -0.0717220008, ...</td>\n    </tr>\n    <tr>\n      <th>3</th>\n      <td>0</td>\n      <td>John Snow is a medical doctor from England. Pe...</td>\n      <td>America</td>\n      <td>GPE</td>\n      <td>0.9603</td>\n      <td>3</td>\n      <td>1</td>\n      <td>John Snow is a medical doctor from England. Pe...</td>\n      <td>[[-0.2747400105, 0.4868099988, -0.0717220008, ...</td>\n    </tr>\n  </tbody>\n</table>\n</div>",
       "datasetInfos": [],
       "metadata": {},
       "removedWidgets": [],
       "textData": null,
       "type": "htmlSandbox"
      }
     },
     "output_type": "display_data"
    }
   ],
   "source": [
    "# Deploy & Query general ner model\n",
    "nlp.query_and_deploy_if_missing('ner',general_text,workload_size='Large')"
   ]
  },
  {
   "cell_type": "code",
   "execution_count": 0,
   "metadata": {
    "application/vnd.databricks.v1+cell": {
     "cellMetadata": {
      "byteLimit": 2048000,
      "rowLimit": 10000
     },
     "inputWidgets": {},
     "nuid": "74638827-ea43-4bfa-9e67-49f37cd07114",
     "showTitle": false,
     "title": ""
    }
   },
   "outputs": [
    {
     "output_type": "display_data",
     "data": {
      "text/html": [
       "<style scoped>\n",
       "  .ansiout {\n",
       "    display: block;\n",
       "    unicode-bidi: embed;\n",
       "    white-space: pre-wrap;\n",
       "    word-wrap: break-word;\n",
       "    word-break: break-all;\n",
       "    font-family: \"Source Code Pro\", \"Menlo\", monospace;;\n",
       "    font-size: 13px;\n",
       "    color: #555;\n",
       "    margin-left: 4px;\n",
       "    line-height: 19px;\n",
       "  }\n",
       "</style>\n",
       "<div class=\"ansiout\">Model already has been logged, skipping logging and using latest. Set re_create_model=True if you want to cre-create it\n",
       "Endpoint en_relation_bodypart_directions_pipeline_ENDPOINT already exists!  Set re_create_endpoint=True if you want to re-create it \n",
       "Out[13]: </div>"
      ]
     },
     "metadata": {
      "application/vnd.databricks.v1+output": {
       "addedWidgets": {},
       "arguments": {},
       "data": "<div class=\"ansiout\">Model already has been logged, skipping logging and using latest. Set re_create_model=True if you want to cre-create it\nEndpoint en_relation_bodypart_directions_pipeline_ENDPOINT already exists!  Set re_create_endpoint=True if you want to re-create it \nOut[13]: </div>",
       "datasetInfos": [],
       "metadata": {},
       "removedWidgets": [],
       "type": "html"
      }
     },
     "output_type": "display_data"
    },
    {
     "output_type": "display_data",
     "data": {
      "text/html": [
       "<div>\n",
       "<style scoped>\n",
       "    .dataframe tbody tr th:only-of-type {\n",
       "        vertical-align: middle;\n",
       "    }\n",
       "\n",
       "    .dataframe tbody tr th {\n",
       "        vertical-align: top;\n",
       "    }\n",
       "\n",
       "    .dataframe thead th {\n",
       "        text-align: right;\n",
       "    }\n",
       "</style>\n",
       "<table border=\"1\" class=\"dataframe\">\n",
       "  <thead>\n",
       "    <tr style=\"text-align: right;\">\n",
       "      <th></th>\n",
       "      <th>index</th>\n",
       "      <th>document</th>\n",
       "      <th>entities_from_disk</th>\n",
       "      <th>entities_from_disk_class</th>\n",
       "      <th>entities_from_disk_confidence</th>\n",
       "      <th>entities_from_disk_origin_chunk</th>\n",
       "      <th>entities_from_disk_origin_sentence</th>\n",
       "      <th>pos</th>\n",
       "      <th>relation</th>\n",
       "      <th>relation_confidence</th>\n",
       "      <th>relation_entity1</th>\n",
       "      <th>relation_entity1_begin</th>\n",
       "      <th>relation_entity1_class</th>\n",
       "      <th>relation_entity1_end</th>\n",
       "      <th>relation_entity2</th>\n",
       "      <th>relation_entity2_begin</th>\n",
       "      <th>relation_entity2_class</th>\n",
       "      <th>relation_entity2_end</th>\n",
       "      <th>relation_origin_sentence</th>\n",
       "      <th>text</th>\n",
       "      <th>unlabeled_dependency</th>\n",
       "      <th>word_embedding_from_disk</th>\n",
       "    </tr>\n",
       "  </thead>\n",
       "  <tbody>\n",
       "    <tr>\n",
       "      <th>0</th>\n",
       "      <td>0</td>\n",
       "      <td>MRI demonstrated infarction in the upper brain...</td>\n",
       "      <td>[MRI, infarction, upper, brain stem, left, cer...</td>\n",
       "      <td>[Test, Disease_Syndrome_Disorder, Direction, I...</td>\n",
       "      <td>[0.998, 0.4944, 0.2124, 0.27865, 0.5153, 0.790...</td>\n",
       "      <td>[0, 1, 2, 3, 4, 5, 6, 7]</td>\n",
       "      <td>[0, 0, 0, 0, 0, 0, 0, 0]</td>\n",
       "      <td>[NN, VVD, NN, II, DD, JJ, NN, NN, NN, JJ, NN, ...</td>\n",
       "      <td>1</td>\n",
       "      <td>0.27865</td>\n",
       "      <td>upper</td>\n",
       "      <td>35</td>\n",
       "      <td>Direction</td>\n",
       "      <td>39</td>\n",
       "      <td>brain stem</td>\n",
       "      <td>41</td>\n",
       "      <td>Internal_organ_or_component</td>\n",
       "      <td>50</td>\n",
       "      <td>0</td>\n",
       "      <td>MRI demonstrated infarction in the upper brain...</td>\n",
       "      <td>[infarction, infarction, ROOT, stem, stem, ste...</td>\n",
       "      <td>[[0.3066935539, -0.1863229275, 0.6304829717, -...</td>\n",
       "    </tr>\n",
       "    <tr>\n",
       "      <th>1</th>\n",
       "      <td>0</td>\n",
       "      <td>MRI demonstrated infarction in the upper brain...</td>\n",
       "      <td>[MRI, infarction, upper, brain stem, left, cer...</td>\n",
       "      <td>[Test, Disease_Syndrome_Disorder, Direction, I...</td>\n",
       "      <td>[0.998, 0.4944, 0.2124, 0.27865, 0.5153, 0.790...</td>\n",
       "      <td>[0, 1, 2, 3, 4, 5, 6, 7]</td>\n",
       "      <td>[0, 0, 0, 0, 0, 0, 0, 0]</td>\n",
       "      <td>[NN, VVD, NN, II, DD, JJ, NN, NN, NN, JJ, NN, ...</td>\n",
       "      <td>0</td>\n",
       "      <td>0.7909</td>\n",
       "      <td>upper</td>\n",
       "      <td>35</td>\n",
       "      <td>Direction</td>\n",
       "      <td>39</td>\n",
       "      <td>cerebellum</td>\n",
       "      <td>59</td>\n",
       "      <td>Internal_organ_or_component</td>\n",
       "      <td>68</td>\n",
       "      <td>0</td>\n",
       "      <td>MRI demonstrated infarction in the upper brain...</td>\n",
       "      <td>[infarction, infarction, ROOT, stem, stem, ste...</td>\n",
       "      <td>[[0.3066935539, -0.1863229275, 0.6304829717, -...</td>\n",
       "    </tr>\n",
       "    <tr>\n",
       "      <th>2</th>\n",
       "      <td>0</td>\n",
       "      <td>MRI demonstrated infarction in the upper brain...</td>\n",
       "      <td>[MRI, infarction, upper, brain stem, left, cer...</td>\n",
       "      <td>[Test, Disease_Syndrome_Disorder, Direction, I...</td>\n",
       "      <td>[0.998, 0.4944, 0.2124, 0.27865, 0.5153, 0.790...</td>\n",
       "      <td>[0, 1, 2, 3, 4, 5, 6, 7]</td>\n",
       "      <td>[0, 0, 0, 0, 0, 0, 0, 0]</td>\n",
       "      <td>[NN, VVD, NN, II, DD, JJ, NN, NN, NN, JJ, NN, ...</td>\n",
       "      <td>0</td>\n",
       "      <td>0.2843</td>\n",
       "      <td>upper</td>\n",
       "      <td>35</td>\n",
       "      <td>Direction</td>\n",
       "      <td>39</td>\n",
       "      <td>basil ganglia</td>\n",
       "      <td>81</td>\n",
       "      <td>Internal_organ_or_component</td>\n",
       "      <td>93</td>\n",
       "      <td>0</td>\n",
       "      <td>MRI demonstrated infarction in the upper brain...</td>\n",
       "      <td>[infarction, infarction, ROOT, stem, stem, ste...</td>\n",
       "      <td>[[0.3066935539, -0.1863229275, 0.6304829717, -...</td>\n",
       "    </tr>\n",
       "    <tr>\n",
       "      <th>3</th>\n",
       "      <td>0</td>\n",
       "      <td>MRI demonstrated infarction in the upper brain...</td>\n",
       "      <td>[MRI, infarction, upper, brain stem, left, cer...</td>\n",
       "      <td>[Test, Disease_Syndrome_Disorder, Direction, I...</td>\n",
       "      <td>[0.998, 0.4944, 0.2124, 0.27865, 0.5153, 0.790...</td>\n",
       "      <td>[0, 1, 2, 3, 4, 5, 6, 7]</td>\n",
       "      <td>[0, 0, 0, 0, 0, 0, 0, 0]</td>\n",
       "      <td>[NN, VVD, NN, II, DD, JJ, NN, NN, NN, JJ, NN, ...</td>\n",
       "      <td>0</td>\n",
       "      <td>0.5153</td>\n",
       "      <td>brain stem</td>\n",
       "      <td>41</td>\n",
       "      <td>Internal_organ_or_component</td>\n",
       "      <td>50</td>\n",
       "      <td>left</td>\n",
       "      <td>54</td>\n",
       "      <td>Direction</td>\n",
       "      <td>57</td>\n",
       "      <td>0</td>\n",
       "      <td>MRI demonstrated infarction in the upper brain...</td>\n",
       "      <td>[infarction, infarction, ROOT, stem, stem, ste...</td>\n",
       "      <td>[[0.3066935539, -0.1863229275, 0.6304829717, -...</td>\n",
       "    </tr>\n",
       "    <tr>\n",
       "      <th>4</th>\n",
       "      <td>0</td>\n",
       "      <td>MRI demonstrated infarction in the upper brain...</td>\n",
       "      <td>[MRI, infarction, upper, brain stem, left, cer...</td>\n",
       "      <td>[Test, Disease_Syndrome_Disorder, Direction, I...</td>\n",
       "      <td>[0.998, 0.4944, 0.2124, 0.27865, 0.5153, 0.790...</td>\n",
       "      <td>[0, 1, 2, 3, 4, 5, 6, 7]</td>\n",
       "      <td>[0, 0, 0, 0, 0, 0, 0, 0]</td>\n",
       "      <td>[NN, VVD, NN, II, DD, JJ, NN, NN, NN, JJ, NN, ...</td>\n",
       "      <td>0</td>\n",
       "      <td>0.4533</td>\n",
       "      <td>brain stem</td>\n",
       "      <td>41</td>\n",
       "      <td>Internal_organ_or_component</td>\n",
       "      <td>50</td>\n",
       "      <td>right</td>\n",
       "      <td>75</td>\n",
       "      <td>Direction</td>\n",
       "      <td>79</td>\n",
       "      <td>0</td>\n",
       "      <td>MRI demonstrated infarction in the upper brain...</td>\n",
       "      <td>[infarction, infarction, ROOT, stem, stem, ste...</td>\n",
       "      <td>[[0.3066935539, -0.1863229275, 0.6304829717, -...</td>\n",
       "    </tr>\n",
       "    <tr>\n",
       "      <th>5</th>\n",
       "      <td>0</td>\n",
       "      <td>MRI demonstrated infarction in the upper brain...</td>\n",
       "      <td>[MRI, infarction, upper, brain stem, left, cer...</td>\n",
       "      <td>[Test, Disease_Syndrome_Disorder, Direction, I...</td>\n",
       "      <td>[0.998, 0.4944, 0.2124, 0.27865, 0.5153, 0.790...</td>\n",
       "      <td>[0, 1, 2, 3, 4, 5, 6, 7]</td>\n",
       "      <td>[0, 0, 0, 0, 0, 0, 0, 0]</td>\n",
       "      <td>[NN, VVD, NN, II, DD, JJ, NN, NN, NN, JJ, NN, ...</td>\n",
       "      <td>1</td>\n",
       "      <td>0.7909</td>\n",
       "      <td>left</td>\n",
       "      <td>54</td>\n",
       "      <td>Direction</td>\n",
       "      <td>57</td>\n",
       "      <td>cerebellum</td>\n",
       "      <td>59</td>\n",
       "      <td>Internal_organ_or_component</td>\n",
       "      <td>68</td>\n",
       "      <td>0</td>\n",
       "      <td>MRI demonstrated infarction in the upper brain...</td>\n",
       "      <td>[infarction, infarction, ROOT, stem, stem, ste...</td>\n",
       "      <td>[[0.3066935539, -0.1863229275, 0.6304829717, -...</td>\n",
       "    </tr>\n",
       "    <tr>\n",
       "      <th>6</th>\n",
       "      <td>0</td>\n",
       "      <td>MRI demonstrated infarction in the upper brain...</td>\n",
       "      <td>[MRI, infarction, upper, brain stem, left, cer...</td>\n",
       "      <td>[Test, Disease_Syndrome_Disorder, Direction, I...</td>\n",
       "      <td>[0.998, 0.4944, 0.2124, 0.27865, 0.5153, 0.790...</td>\n",
       "      <td>[0, 1, 2, 3, 4, 5, 6, 7]</td>\n",
       "      <td>[0, 0, 0, 0, 0, 0, 0, 0]</td>\n",
       "      <td>[NN, VVD, NN, II, DD, JJ, NN, NN, NN, JJ, NN, ...</td>\n",
       "      <td>0</td>\n",
       "      <td>0.2843</td>\n",
       "      <td>left</td>\n",
       "      <td>54</td>\n",
       "      <td>Direction</td>\n",
       "      <td>57</td>\n",
       "      <td>basil ganglia</td>\n",
       "      <td>81</td>\n",
       "      <td>Internal_organ_or_component</td>\n",
       "      <td>93</td>\n",
       "      <td>0</td>\n",
       "      <td>MRI demonstrated infarction in the upper brain...</td>\n",
       "      <td>[infarction, infarction, ROOT, stem, stem, ste...</td>\n",
       "      <td>[[0.3066935539, -0.1863229275, 0.6304829717, -...</td>\n",
       "    </tr>\n",
       "    <tr>\n",
       "      <th>7</th>\n",
       "      <td>0</td>\n",
       "      <td>MRI demonstrated infarction in the upper brain...</td>\n",
       "      <td>[MRI, infarction, upper, brain stem, left, cer...</td>\n",
       "      <td>[Test, Disease_Syndrome_Disorder, Direction, I...</td>\n",
       "      <td>[0.998, 0.4944, 0.2124, 0.27865, 0.5153, 0.790...</td>\n",
       "      <td>[0, 1, 2, 3, 4, 5, 6, 7]</td>\n",
       "      <td>[0, 0, 0, 0, 0, 0, 0, 0]</td>\n",
       "      <td>[NN, VVD, NN, II, DD, JJ, NN, NN, NN, JJ, NN, ...</td>\n",
       "      <td>0</td>\n",
       "      <td>0.4533</td>\n",
       "      <td>cerebellum</td>\n",
       "      <td>59</td>\n",
       "      <td>Internal_organ_or_component</td>\n",
       "      <td>68</td>\n",
       "      <td>right</td>\n",
       "      <td>75</td>\n",
       "      <td>Direction</td>\n",
       "      <td>79</td>\n",
       "      <td>0</td>\n",
       "      <td>MRI demonstrated infarction in the upper brain...</td>\n",
       "      <td>[infarction, infarction, ROOT, stem, stem, ste...</td>\n",
       "      <td>[[0.3066935539, -0.1863229275, 0.6304829717, -...</td>\n",
       "    </tr>\n",
       "    <tr>\n",
       "      <th>8</th>\n",
       "      <td>0</td>\n",
       "      <td>MRI demonstrated infarction in the upper brain...</td>\n",
       "      <td>[MRI, infarction, upper, brain stem, left, cer...</td>\n",
       "      <td>[Test, Disease_Syndrome_Disorder, Direction, I...</td>\n",
       "      <td>[0.998, 0.4944, 0.2124, 0.27865, 0.5153, 0.790...</td>\n",
       "      <td>[0, 1, 2, 3, 4, 5, 6, 7]</td>\n",
       "      <td>[0, 0, 0, 0, 0, 0, 0, 0]</td>\n",
       "      <td>[NN, VVD, NN, II, DD, JJ, NN, NN, NN, JJ, NN, ...</td>\n",
       "      <td>1</td>\n",
       "      <td>0.2843</td>\n",
       "      <td>right</td>\n",
       "      <td>75</td>\n",
       "      <td>Direction</td>\n",
       "      <td>79</td>\n",
       "      <td>basil ganglia</td>\n",
       "      <td>81</td>\n",
       "      <td>Internal_organ_or_component</td>\n",
       "      <td>93</td>\n",
       "      <td>0</td>\n",
       "      <td>MRI demonstrated infarction in the upper brain...</td>\n",
       "      <td>[infarction, infarction, ROOT, stem, stem, ste...</td>\n",
       "      <td>[[0.3066935539, -0.1863229275, 0.6304829717, -...</td>\n",
       "    </tr>\n",
       "  </tbody>\n",
       "</table>\n",
       "</div>"
      ]
     },
     "metadata": {
      "application/vnd.databricks.v1+output": {
       "addedWidgets": {},
       "arguments": {},
       "data": "<div>\n<style scoped>\n    .dataframe tbody tr th:only-of-type {\n        vertical-align: middle;\n    }\n\n    .dataframe tbody tr th {\n        vertical-align: top;\n    }\n\n    .dataframe thead th {\n        text-align: right;\n    }\n</style>\n<table border=\"1\" class=\"dataframe\">\n  <thead>\n    <tr style=\"text-align: right;\">\n      <th></th>\n      <th>index</th>\n      <th>document</th>\n      <th>entities_from_disk</th>\n      <th>entities_from_disk_class</th>\n      <th>entities_from_disk_confidence</th>\n      <th>entities_from_disk_origin_chunk</th>\n      <th>entities_from_disk_origin_sentence</th>\n      <th>pos</th>\n      <th>relation</th>\n      <th>relation_confidence</th>\n      <th>relation_entity1</th>\n      <th>relation_entity1_begin</th>\n      <th>relation_entity1_class</th>\n      <th>relation_entity1_end</th>\n      <th>relation_entity2</th>\n      <th>relation_entity2_begin</th>\n      <th>relation_entity2_class</th>\n      <th>relation_entity2_end</th>\n      <th>relation_origin_sentence</th>\n      <th>text</th>\n      <th>unlabeled_dependency</th>\n      <th>word_embedding_from_disk</th>\n    </tr>\n  </thead>\n  <tbody>\n    <tr>\n      <th>0</th>\n      <td>0</td>\n      <td>MRI demonstrated infarction in the upper brain...</td>\n      <td>[MRI, infarction, upper, brain stem, left, cer...</td>\n      <td>[Test, Disease_Syndrome_Disorder, Direction, I...</td>\n      <td>[0.998, 0.4944, 0.2124, 0.27865, 0.5153, 0.790...</td>\n      <td>[0, 1, 2, 3, 4, 5, 6, 7]</td>\n      <td>[0, 0, 0, 0, 0, 0, 0, 0]</td>\n      <td>[NN, VVD, NN, II, DD, JJ, NN, NN, NN, JJ, NN, ...</td>\n      <td>1</td>\n      <td>0.27865</td>\n      <td>upper</td>\n      <td>35</td>\n      <td>Direction</td>\n      <td>39</td>\n      <td>brain stem</td>\n      <td>41</td>\n      <td>Internal_organ_or_component</td>\n      <td>50</td>\n      <td>0</td>\n      <td>MRI demonstrated infarction in the upper brain...</td>\n      <td>[infarction, infarction, ROOT, stem, stem, ste...</td>\n      <td>[[0.3066935539, -0.1863229275, 0.6304829717, -...</td>\n    </tr>\n    <tr>\n      <th>1</th>\n      <td>0</td>\n      <td>MRI demonstrated infarction in the upper brain...</td>\n      <td>[MRI, infarction, upper, brain stem, left, cer...</td>\n      <td>[Test, Disease_Syndrome_Disorder, Direction, I...</td>\n      <td>[0.998, 0.4944, 0.2124, 0.27865, 0.5153, 0.790...</td>\n      <td>[0, 1, 2, 3, 4, 5, 6, 7]</td>\n      <td>[0, 0, 0, 0, 0, 0, 0, 0]</td>\n      <td>[NN, VVD, NN, II, DD, JJ, NN, NN, NN, JJ, NN, ...</td>\n      <td>0</td>\n      <td>0.7909</td>\n      <td>upper</td>\n      <td>35</td>\n      <td>Direction</td>\n      <td>39</td>\n      <td>cerebellum</td>\n      <td>59</td>\n      <td>Internal_organ_or_component</td>\n      <td>68</td>\n      <td>0</td>\n      <td>MRI demonstrated infarction in the upper brain...</td>\n      <td>[infarction, infarction, ROOT, stem, stem, ste...</td>\n      <td>[[0.3066935539, -0.1863229275, 0.6304829717, -...</td>\n    </tr>\n    <tr>\n      <th>2</th>\n      <td>0</td>\n      <td>MRI demonstrated infarction in the upper brain...</td>\n      <td>[MRI, infarction, upper, brain stem, left, cer...</td>\n      <td>[Test, Disease_Syndrome_Disorder, Direction, I...</td>\n      <td>[0.998, 0.4944, 0.2124, 0.27865, 0.5153, 0.790...</td>\n      <td>[0, 1, 2, 3, 4, 5, 6, 7]</td>\n      <td>[0, 0, 0, 0, 0, 0, 0, 0]</td>\n      <td>[NN, VVD, NN, II, DD, JJ, NN, NN, NN, JJ, NN, ...</td>\n      <td>0</td>\n      <td>0.2843</td>\n      <td>upper</td>\n      <td>35</td>\n      <td>Direction</td>\n      <td>39</td>\n      <td>basil ganglia</td>\n      <td>81</td>\n      <td>Internal_organ_or_component</td>\n      <td>93</td>\n      <td>0</td>\n      <td>MRI demonstrated infarction in the upper brain...</td>\n      <td>[infarction, infarction, ROOT, stem, stem, ste...</td>\n      <td>[[0.3066935539, -0.1863229275, 0.6304829717, -...</td>\n    </tr>\n    <tr>\n      <th>3</th>\n      <td>0</td>\n      <td>MRI demonstrated infarction in the upper brain...</td>\n      <td>[MRI, infarction, upper, brain stem, left, cer...</td>\n      <td>[Test, Disease_Syndrome_Disorder, Direction, I...</td>\n      <td>[0.998, 0.4944, 0.2124, 0.27865, 0.5153, 0.790...</td>\n      <td>[0, 1, 2, 3, 4, 5, 6, 7]</td>\n      <td>[0, 0, 0, 0, 0, 0, 0, 0]</td>\n      <td>[NN, VVD, NN, II, DD, JJ, NN, NN, NN, JJ, NN, ...</td>\n      <td>0</td>\n      <td>0.5153</td>\n      <td>brain stem</td>\n      <td>41</td>\n      <td>Internal_organ_or_component</td>\n      <td>50</td>\n      <td>left</td>\n      <td>54</td>\n      <td>Direction</td>\n      <td>57</td>\n      <td>0</td>\n      <td>MRI demonstrated infarction in the upper brain...</td>\n      <td>[infarction, infarction, ROOT, stem, stem, ste...</td>\n      <td>[[0.3066935539, -0.1863229275, 0.6304829717, -...</td>\n    </tr>\n    <tr>\n      <th>4</th>\n      <td>0</td>\n      <td>MRI demonstrated infarction in the upper brain...</td>\n      <td>[MRI, infarction, upper, brain stem, left, cer...</td>\n      <td>[Test, Disease_Syndrome_Disorder, Direction, I...</td>\n      <td>[0.998, 0.4944, 0.2124, 0.27865, 0.5153, 0.790...</td>\n      <td>[0, 1, 2, 3, 4, 5, 6, 7]</td>\n      <td>[0, 0, 0, 0, 0, 0, 0, 0]</td>\n      <td>[NN, VVD, NN, II, DD, JJ, NN, NN, NN, JJ, NN, ...</td>\n      <td>0</td>\n      <td>0.4533</td>\n      <td>brain stem</td>\n      <td>41</td>\n      <td>Internal_organ_or_component</td>\n      <td>50</td>\n      <td>right</td>\n      <td>75</td>\n      <td>Direction</td>\n      <td>79</td>\n      <td>0</td>\n      <td>MRI demonstrated infarction in the upper brain...</td>\n      <td>[infarction, infarction, ROOT, stem, stem, ste...</td>\n      <td>[[0.3066935539, -0.1863229275, 0.6304829717, -...</td>\n    </tr>\n    <tr>\n      <th>5</th>\n      <td>0</td>\n      <td>MRI demonstrated infarction in the upper brain...</td>\n      <td>[MRI, infarction, upper, brain stem, left, cer...</td>\n      <td>[Test, Disease_Syndrome_Disorder, Direction, I...</td>\n      <td>[0.998, 0.4944, 0.2124, 0.27865, 0.5153, 0.790...</td>\n      <td>[0, 1, 2, 3, 4, 5, 6, 7]</td>\n      <td>[0, 0, 0, 0, 0, 0, 0, 0]</td>\n      <td>[NN, VVD, NN, II, DD, JJ, NN, NN, NN, JJ, NN, ...</td>\n      <td>1</td>\n      <td>0.7909</td>\n      <td>left</td>\n      <td>54</td>\n      <td>Direction</td>\n      <td>57</td>\n      <td>cerebellum</td>\n      <td>59</td>\n      <td>Internal_organ_or_component</td>\n      <td>68</td>\n      <td>0</td>\n      <td>MRI demonstrated infarction in the upper brain...</td>\n      <td>[infarction, infarction, ROOT, stem, stem, ste...</td>\n      <td>[[0.3066935539, -0.1863229275, 0.6304829717, -...</td>\n    </tr>\n    <tr>\n      <th>6</th>\n      <td>0</td>\n      <td>MRI demonstrated infarction in the upper brain...</td>\n      <td>[MRI, infarction, upper, brain stem, left, cer...</td>\n      <td>[Test, Disease_Syndrome_Disorder, Direction, I...</td>\n      <td>[0.998, 0.4944, 0.2124, 0.27865, 0.5153, 0.790...</td>\n      <td>[0, 1, 2, 3, 4, 5, 6, 7]</td>\n      <td>[0, 0, 0, 0, 0, 0, 0, 0]</td>\n      <td>[NN, VVD, NN, II, DD, JJ, NN, NN, NN, JJ, NN, ...</td>\n      <td>0</td>\n      <td>0.2843</td>\n      <td>left</td>\n      <td>54</td>\n      <td>Direction</td>\n      <td>57</td>\n      <td>basil ganglia</td>\n      <td>81</td>\n      <td>Internal_organ_or_component</td>\n      <td>93</td>\n      <td>0</td>\n      <td>MRI demonstrated infarction in the upper brain...</td>\n      <td>[infarction, infarction, ROOT, stem, stem, ste...</td>\n      <td>[[0.3066935539, -0.1863229275, 0.6304829717, -...</td>\n    </tr>\n    <tr>\n      <th>7</th>\n      <td>0</td>\n      <td>MRI demonstrated infarction in the upper brain...</td>\n      <td>[MRI, infarction, upper, brain stem, left, cer...</td>\n      <td>[Test, Disease_Syndrome_Disorder, Direction, I...</td>\n      <td>[0.998, 0.4944, 0.2124, 0.27865, 0.5153, 0.790...</td>\n      <td>[0, 1, 2, 3, 4, 5, 6, 7]</td>\n      <td>[0, 0, 0, 0, 0, 0, 0, 0]</td>\n      <td>[NN, VVD, NN, II, DD, JJ, NN, NN, NN, JJ, NN, ...</td>\n      <td>0</td>\n      <td>0.4533</td>\n      <td>cerebellum</td>\n      <td>59</td>\n      <td>Internal_organ_or_component</td>\n      <td>68</td>\n      <td>right</td>\n      <td>75</td>\n      <td>Direction</td>\n      <td>79</td>\n      <td>0</td>\n      <td>MRI demonstrated infarction in the upper brain...</td>\n      <td>[infarction, infarction, ROOT, stem, stem, ste...</td>\n      <td>[[0.3066935539, -0.1863229275, 0.6304829717, -...</td>\n    </tr>\n    <tr>\n      <th>8</th>\n      <td>0</td>\n      <td>MRI demonstrated infarction in the upper brain...</td>\n      <td>[MRI, infarction, upper, brain stem, left, cer...</td>\n      <td>[Test, Disease_Syndrome_Disorder, Direction, I...</td>\n      <td>[0.998, 0.4944, 0.2124, 0.27865, 0.5153, 0.790...</td>\n      <td>[0, 1, 2, 3, 4, 5, 6, 7]</td>\n      <td>[0, 0, 0, 0, 0, 0, 0, 0]</td>\n      <td>[NN, VVD, NN, II, DD, JJ, NN, NN, NN, JJ, NN, ...</td>\n      <td>1</td>\n      <td>0.2843</td>\n      <td>right</td>\n      <td>75</td>\n      <td>Direction</td>\n      <td>79</td>\n      <td>basil ganglia</td>\n      <td>81</td>\n      <td>Internal_organ_or_component</td>\n      <td>93</td>\n      <td>0</td>\n      <td>MRI demonstrated infarction in the upper brain...</td>\n      <td>[infarction, infarction, ROOT, stem, stem, ste...</td>\n      <td>[[0.3066935539, -0.1863229275, 0.6304829717, -...</td>\n    </tr>\n  </tbody>\n</table>\n</div>",
       "datasetInfos": [],
       "metadata": {},
       "removedWidgets": [],
       "textData": null,
       "type": "htmlSandbox"
      }
     },
     "output_type": "display_data"
    }
   ],
   "source": [
    "# https://nlp.johnsnowlabs.com/2023/06/17/re_bodypart_directions_pipeline_en.html \n",
    "# Relation Example\n",
    "nlp.query_and_deploy_if_missing(\"en.relation.bodypart_directions.pipeline\",body_re_text)\n"
   ]
  },
  {
   "cell_type": "code",
   "execution_count": 0,
   "metadata": {
    "application/vnd.databricks.v1+cell": {
     "cellMetadata": {
      "byteLimit": 2048000,
      "rowLimit": 10000
     },
     "inputWidgets": {},
     "nuid": "7d48af06-622d-4ffb-bbdf-049218834d41",
     "showTitle": false,
     "title": ""
    }
   },
   "outputs": [
    {
     "output_type": "display_data",
     "data": {
      "text/html": [
       "<style scoped>\n",
       "  .ansiout {\n",
       "    display: block;\n",
       "    unicode-bidi: embed;\n",
       "    white-space: pre-wrap;\n",
       "    word-wrap: break-word;\n",
       "    word-break: break-all;\n",
       "    font-family: \"Source Code Pro\", \"Menlo\", monospace;;\n",
       "    font-size: 13px;\n",
       "    color: #555;\n",
       "    margin-left: 4px;\n",
       "    line-height: 19px;\n",
       "  }\n",
       "</style>\n",
       "<div class=\"ansiout\">Deleting registered model en_classify_ade_seq_biobert_REGISTERD_MODEL\n",
       "Warning::Spark Session already created, some configs may not take.\n",
       "Warning::Spark Session already created, some configs may not take.\n",
       "bert_sequence_classifier_ade download started this may take some time.\n",
       "\r[ | ]\r[ / ]\r[ — ]\r[ \\ ]\r[ | ]\r[ / ]\r[ — ]\r[ \\ ]\r[ | ]\r[ / ]\r[OK!]\n",
       "sentence_detector_dl download started this may take some time.\n",
       "Approximate size to download 354.6 KB\n",
       "\r[ | ]\r[OK!]\n",
       "Warning::Spark Session already created, some configs may not take.\n",
       "Successfully registered model &#39;en_classify_ade_seq_biobert_REGISTERD_MODEL&#39;.\n",
       "2023/09/02 17:45:18 INFO mlflow.tracking._model_registry.client: Waiting up to 300 seconds for model version to finish creation. Model name: en_classify_ade_seq_biobert_REGISTERD_MODEL, version 1\n",
       "Created version &#39;1&#39; of model &#39;en_classify_ade_seq_biobert_REGISTERD_MODEL&#39;.\n",
       "2023/09/02 17:47:18 WARNING mlflow.models.model: Model logged without a signature. Signatures will be required for upcoming model registry features as they validate model inputs and denote the expected schema of model outputs. Please visit https://www.mlflow.org/docs/2.20.0/models.html#set-signature-on-logged-model for instructions on setting a model signature on your logged model.\n",
       "Registered model &#39;en_classify_ade_seq_biobert_REGISTERD_MODEL&#39; already exists. Creating a new version of this model...\n",
       "2023/09/02 17:47:18 INFO mlflow.tracking._model_registry.client: Waiting up to 300 seconds for model version to finish creation. Model name: en_classify_ade_seq_biobert_REGISTERD_MODEL, version 2\n",
       "Created version &#39;2&#39; of model &#39;en_classify_ade_seq_biobert_REGISTERD_MODEL&#39;.\n",
       "Deleting exisiting Endpoint en_classify_ade_seq_biobert_ENDPOINT\n",
       "Writing license to scope JSL_SCOPE\n",
       "Creating new serving endpoint: en_classify_ade_seq_biobert_ENDPOINT\n",
       "Deployment starting, this may take 10 to 20 minutes...\n",
       "Created serving endpoint en_classify_ade_seq_biobert_ENDPOINT at https://dbc-3d4c44aa-a512.cloud.databricks.com/#mlflow/endpoints/en_classify_ade_seq_biobert_ENDPOINT\n",
       "Out[7]: </div>"
      ]
     },
     "metadata": {
      "application/vnd.databricks.v1+output": {
       "addedWidgets": {},
       "arguments": {},
       "data": "<div class=\"ansiout\">Deleting registered model en_classify_ade_seq_biobert_REGISTERD_MODEL\nWarning::Spark Session already created, some configs may not take.\nWarning::Spark Session already created, some configs may not take.\nbert_sequence_classifier_ade download started this may take some time.\n\r[ | ]\r[ / ]\r[ — ]\r[ \\ ]\r[ | ]\r[ / ]\r[ — ]\r[ \\ ]\r[ | ]\r[ / ]\r[OK!]\nsentence_detector_dl download started this may take some time.\nApproximate size to download 354.6 KB\n\r[ | ]\r[OK!]\nWarning::Spark Session already created, some configs may not take.\nSuccessfully registered model &#39;en_classify_ade_seq_biobert_REGISTERD_MODEL&#39;.\n2023/09/02 17:45:18 INFO mlflow.tracking._model_registry.client: Waiting up to 300 seconds for model version to finish creation. Model name: en_classify_ade_seq_biobert_REGISTERD_MODEL, version 1\nCreated version &#39;1&#39; of model &#39;en_classify_ade_seq_biobert_REGISTERD_MODEL&#39;.\n2023/09/02 17:47:18 WARNING mlflow.models.model: Model logged without a signature. Signatures will be required for upcoming model registry features as they validate model inputs and denote the expected schema of model outputs. Please visit https://www.mlflow.org/docs/2.20.0/models.html#set-signature-on-logged-model for instructions on setting a model signature on your logged model.\nRegistered model &#39;en_classify_ade_seq_biobert_REGISTERD_MODEL&#39; already exists. Creating a new version of this model...\n2023/09/02 17:47:18 INFO mlflow.tracking._model_registry.client: Waiting up to 300 seconds for model version to finish creation. Model name: en_classify_ade_seq_biobert_REGISTERD_MODEL, version 2\nCreated version &#39;2&#39; of model &#39;en_classify_ade_seq_biobert_REGISTERD_MODEL&#39;.\nDeleting exisiting Endpoint en_classify_ade_seq_biobert_ENDPOINT\nWriting license to scope JSL_SCOPE\nCreating new serving endpoint: en_classify_ade_seq_biobert_ENDPOINT\nDeployment starting, this may take 10 to 20 minutes...\nCreated serving endpoint en_classify_ade_seq_biobert_ENDPOINT at https://dbc-3d4c44aa-a512.cloud.databricks.com/#mlflow/endpoints/en_classify_ade_seq_biobert_ENDPOINT\nOut[7]: </div>",
       "datasetInfos": [],
       "metadata": {},
       "removedWidgets": [],
       "type": "html"
      }
     },
     "output_type": "display_data"
    },
    {
     "output_type": "display_data",
     "data": {
      "text/html": [
       "<div>\n",
       "<style scoped>\n",
       "    .dataframe tbody tr th:only-of-type {\n",
       "        vertical-align: middle;\n",
       "    }\n",
       "\n",
       "    .dataframe tbody tr th {\n",
       "        vertical-align: top;\n",
       "    }\n",
       "\n",
       "    .dataframe thead th {\n",
       "        text-align: right;\n",
       "    }\n",
       "</style>\n",
       "<table border=\"1\" class=\"dataframe\">\n",
       "  <thead>\n",
       "    <tr style=\"text-align: right;\">\n",
       "      <th></th>\n",
       "      <th>index</th>\n",
       "      <th>classified_sequence</th>\n",
       "      <th>classified_sequence_confidence</th>\n",
       "      <th>sentence</th>\n",
       "      <th>text</th>\n",
       "    </tr>\n",
       "  </thead>\n",
       "  <tbody>\n",
       "    <tr>\n",
       "      <th>0</th>\n",
       "      <td>0</td>\n",
       "      <td>True</td>\n",
       "      <td>0.998191</td>\n",
       "      <td>So glad I am off effexor, so sad it ruined my ...</td>\n",
       "      <td>So glad I am off effexor, so sad it ruined my ...</td>\n",
       "    </tr>\n",
       "    <tr>\n",
       "      <th>1</th>\n",
       "      <td>0</td>\n",
       "      <td>False</td>\n",
       "      <td>0.999601</td>\n",
       "      <td>tip Please be carefull taking antideppresiva ...</td>\n",
       "      <td>So glad I am off effexor, so sad it ruined my ...</td>\n",
       "    </tr>\n",
       "  </tbody>\n",
       "</table>\n",
       "</div>"
      ]
     },
     "metadata": {
      "application/vnd.databricks.v1+output": {
       "addedWidgets": {},
       "arguments": {},
       "data": "<div>\n<style scoped>\n    .dataframe tbody tr th:only-of-type {\n        vertical-align: middle;\n    }\n\n    .dataframe tbody tr th {\n        vertical-align: top;\n    }\n\n    .dataframe thead th {\n        text-align: right;\n    }\n</style>\n<table border=\"1\" class=\"dataframe\">\n  <thead>\n    <tr style=\"text-align: right;\">\n      <th></th>\n      <th>index</th>\n      <th>classified_sequence</th>\n      <th>classified_sequence_confidence</th>\n      <th>sentence</th>\n      <th>text</th>\n    </tr>\n  </thead>\n  <tbody>\n    <tr>\n      <th>0</th>\n      <td>0</td>\n      <td>True</td>\n      <td>0.998191</td>\n      <td>So glad I am off effexor, so sad it ruined my ...</td>\n      <td>So glad I am off effexor, so sad it ruined my ...</td>\n    </tr>\n    <tr>\n      <th>1</th>\n      <td>0</td>\n      <td>False</td>\n      <td>0.999601</td>\n      <td>tip Please be carefull taking antideppresiva ...</td>\n      <td>So glad I am off effexor, so sad it ruined my ...</td>\n    </tr>\n  </tbody>\n</table>\n</div>",
       "datasetInfos": [],
       "metadata": {},
       "removedWidgets": [],
       "textData": null,
       "type": "htmlSandbox"
      }
     },
     "output_type": "display_data"
    }
   ],
   "source": [
    "# Sequence Classifier Example https://nlp.johnsnowlabs.com/2022/02/08/bert_sequence_classifier_ade_en.html\n",
    "nlp.query_and_deploy_if_missing(\"en.classify.ade.seq_biobert\", ade_text,True,True )\n"
   ]
  },
  {
   "cell_type": "code",
   "execution_count": 0,
   "metadata": {
    "application/vnd.databricks.v1+cell": {
     "cellMetadata": {
      "byteLimit": 2048000,
      "rowLimit": 10000
     },
     "inputWidgets": {},
     "nuid": "372f65b0-f258-4640-b3d2-7b3bed3a6571",
     "showTitle": false,
     "title": ""
    }
   },
   "outputs": [
    {
     "output_type": "display_data",
     "data": {
      "text/html": [
       "<style scoped>\n",
       "  .ansiout {\n",
       "    display: block;\n",
       "    unicode-bidi: embed;\n",
       "    white-space: pre-wrap;\n",
       "    word-wrap: break-word;\n",
       "    word-break: break-all;\n",
       "    font-family: \"Source Code Pro\", \"Menlo\", monospace;;\n",
       "    font-size: 13px;\n",
       "    color: #555;\n",
       "    margin-left: 4px;\n",
       "    line-height: 19px;\n",
       "  }\n",
       "</style>\n",
       "<div class=\"ansiout\">Warning::Spark Session already created, some configs may not take.\n",
       "Warning::Spark Session already created, some configs may not take.\n",
       "assertion_dl_radiology download started this may take some time.\n",
       "\r[ | ]\r[OK!]\n",
       "embeddings_clinical download started this may take some time.\n",
       "Approximate size to download 1.6 GB\n",
       "\r[ | ]\r[OK!]\n",
       "ner_jsl download started this may take some time.\n",
       "\r[ | ]\r[OK!]\n",
       "sentence_detector_dl download started this may take some time.\n",
       "Approximate size to download 354.6 KB\n",
       "\r[ | ]\r[OK!]\n",
       "Warning::Spark Session already created, some configs may not take.\n",
       "2023/09/03 02:49:58 WARNING mlflow.models.model: Model logged without a signature. Signatures will be required for upcoming model registry features as they validate model inputs and denote the expected schema of model outputs. Please visit https://www.mlflow.org/docs/2.30.0/models.html#set-signature-on-logged-model for instructions on setting a model signature on your logged model.\n",
       "Successfully registered model &#39;en_assert_radiology_REGISTERD_MODEL&#39;.\n",
       "2023/09/03 02:49:58 INFO mlflow.tracking._model_registry.client: Waiting up to 300 seconds for model version to finish creation. Model name: en_assert_radiology_REGISTERD_MODEL, version 1\n",
       "Created version &#39;1&#39; of model &#39;en_assert_radiology_REGISTERD_MODEL&#39;.\n",
       "2023/09/03 02:53:30 WARNING mlflow.models.model: Model logged without a signature. Signatures will be required for upcoming model registry features as they validate model inputs and denote the expected schema of model outputs. Please visit https://www.mlflow.org/docs/2.30.0/models.html#set-signature-on-logged-model for instructions on setting a model signature on your logged model.\n",
       "Registered model &#39;en_assert_radiology_REGISTERD_MODEL&#39; already exists. Creating a new version of this model...\n",
       "2023/09/03 02:53:31 INFO mlflow.tracking._model_registry.client: Waiting up to 300 seconds for model version to finish creation. Model name: en_assert_radiology_REGISTERD_MODEL, version 2\n",
       "Created version &#39;2&#39; of model &#39;en_assert_radiology_REGISTERD_MODEL&#39;.\n",
       "Deleting exisiting Endpoint en_assert_radiology_ENDPOINT\n",
       "Writing license to scope JSL_SCOPE\n",
       "Creating new serving endpoint: en_assert_radiology_ENDPOINT\n",
       "Deployment starting, this may take 10 to 20 minutes...\n",
       "</div>"
      ]
     },
     "metadata": {
      "application/vnd.databricks.v1+output": {
       "addedWidgets": {},
       "arguments": {},
       "data": "<div class=\"ansiout\">Warning::Spark Session already created, some configs may not take.\nWarning::Spark Session already created, some configs may not take.\nassertion_dl_radiology download started this may take some time.\n\r[ | ]\r[OK!]\nembeddings_clinical download started this may take some time.\nApproximate size to download 1.6 GB\n\r[ | ]\r[OK!]\nner_jsl download started this may take some time.\n\r[ | ]\r[OK!]\nsentence_detector_dl download started this may take some time.\nApproximate size to download 354.6 KB\n\r[ | ]\r[OK!]\nWarning::Spark Session already created, some configs may not take.\n2023/09/03 02:49:58 WARNING mlflow.models.model: Model logged without a signature. Signatures will be required for upcoming model registry features as they validate model inputs and denote the expected schema of model outputs. Please visit https://www.mlflow.org/docs/2.30.0/models.html#set-signature-on-logged-model for instructions on setting a model signature on your logged model.\nSuccessfully registered model &#39;en_assert_radiology_REGISTERD_MODEL&#39;.\n2023/09/03 02:49:58 INFO mlflow.tracking._model_registry.client: Waiting up to 300 seconds for model version to finish creation. Model name: en_assert_radiology_REGISTERD_MODEL, version 1\nCreated version &#39;1&#39; of model &#39;en_assert_radiology_REGISTERD_MODEL&#39;.\n2023/09/03 02:53:30 WARNING mlflow.models.model: Model logged without a signature. Signatures will be required for upcoming model registry features as they validate model inputs and denote the expected schema of model outputs. Please visit https://www.mlflow.org/docs/2.30.0/models.html#set-signature-on-logged-model for instructions on setting a model signature on your logged model.\nRegistered model &#39;en_assert_radiology_REGISTERD_MODEL&#39; already exists. Creating a new version of this model...\n2023/09/03 02:53:31 INFO mlflow.tracking._model_registry.client: Waiting up to 300 seconds for model version to finish creation. Model name: en_assert_radiology_REGISTERD_MODEL, version 2\nCreated version &#39;2&#39; of model &#39;en_assert_radiology_REGISTERD_MODEL&#39;.\nDeleting exisiting Endpoint en_assert_radiology_ENDPOINT\nWriting license to scope JSL_SCOPE\nCreating new serving endpoint: en_assert_radiology_ENDPOINT\nDeployment starting, this may take 10 to 20 minutes...\n</div>",
       "datasetInfos": [],
       "metadata": {},
       "removedWidgets": [],
       "type": "html"
      }
     },
     "output_type": "display_data"
    },
    {
     "output_type": "display_data",
     "data": {
      "text/html": [
       "<style scoped>\n",
       "  .ansiout {\n",
       "    display: block;\n",
       "    unicode-bidi: embed;\n",
       "    white-space: pre-wrap;\n",
       "    word-wrap: break-word;\n",
       "    word-break: break-all;\n",
       "    font-family: \"Source Code Pro\", \"Menlo\", monospace;;\n",
       "    font-size: 13px;\n",
       "    color: #555;\n",
       "    margin-left: 4px;\n",
       "    line-height: 19px;\n",
       "  }\n",
       "</style>"
      ]
     },
     "metadata": {
      "application/vnd.databricks.v1+output": {
       "arguments": {},
       "data": "",
       "errorSummary": "Cancelled",
       "errorTraceType": "html",
       "metadata": {},
       "type": "ipynbError"
      }
     },
     "output_type": "display_data"
    }
   ],
   "source": [
    "# Assertion Example https://nlp.johnsnowlabs.com/2021/03/18/assertion_dl_radiology_en.html\n",
    "nlp.query_and_deploy_if_missing(\"en.assert.radiology\", radiology_text,workload_size='Large')\n"
   ]
  },
  {
   "cell_type": "code",
   "execution_count": 0,
   "metadata": {
    "application/vnd.databricks.v1+cell": {
     "cellMetadata": {
      "byteLimit": 2048000,
      "rowLimit": 10000
     },
     "inputWidgets": {},
     "nuid": "641a6d60-5fa1-4076-9d8b-5ea088dc0901",
     "showTitle": false,
     "title": ""
    }
   },
   "outputs": [
    {
     "output_type": "display_data",
     "data": {
      "text/html": [
       "<style scoped>\n",
       "  .ansiout {\n",
       "    display: block;\n",
       "    unicode-bidi: embed;\n",
       "    white-space: pre-wrap;\n",
       "    word-wrap: break-word;\n",
       "    word-break: break-all;\n",
       "    font-family: \"Source Code Pro\", \"Menlo\", monospace;;\n",
       "    font-size: 13px;\n",
       "    color: #555;\n",
       "    margin-left: 4px;\n",
       "    line-height: 19px;\n",
       "  }\n",
       "</style>\n",
       "<div class=\"ansiout\">Model already has been logged, skipping logging and using latest. Set re_create_model=True if you want to cre-create it\n",
       "Deleting exisiting Endpoint en_summarize_clinical_jsl_ENDPOINT\n",
       "Writing license to scope JSL_SCOPE\n",
       "Creating new serving endpoint: en_summarize_clinical_jsl_ENDPOINT\n",
       "Deployment starting, this may take 10 to 20 minutes...\n",
       "Created serving endpoint en_summarize_clinical_jsl_ENDPOINT at https://dbc-3d4c44aa-a512.cloud.databricks.com/#mlflow/endpoints/en_summarize_clinical_jsl_ENDPOINT\n",
       "Out[7]: </div>"
      ]
     },
     "metadata": {
      "application/vnd.databricks.v1+output": {
       "addedWidgets": {},
       "arguments": {},
       "data": "<div class=\"ansiout\">Model already has been logged, skipping logging and using latest. Set re_create_model=True if you want to cre-create it\nDeleting exisiting Endpoint en_summarize_clinical_jsl_ENDPOINT\nWriting license to scope JSL_SCOPE\nCreating new serving endpoint: en_summarize_clinical_jsl_ENDPOINT\nDeployment starting, this may take 10 to 20 minutes...\nCreated serving endpoint en_summarize_clinical_jsl_ENDPOINT at https://dbc-3d4c44aa-a512.cloud.databricks.com/#mlflow/endpoints/en_summarize_clinical_jsl_ENDPOINT\nOut[7]: </div>",
       "datasetInfos": [],
       "metadata": {},
       "removedWidgets": [],
       "type": "html"
      }
     },
     "output_type": "display_data"
    },
    {
     "output_type": "display_data",
     "data": {
      "text/html": [
       "<div>\n",
       "<style scoped>\n",
       "    .dataframe tbody tr th:only-of-type {\n",
       "        vertical-align: middle;\n",
       "    }\n",
       "\n",
       "    .dataframe tbody tr th {\n",
       "        vertical-align: top;\n",
       "    }\n",
       "\n",
       "    .dataframe thead th {\n",
       "        text-align: right;\n",
       "    }\n",
       "</style>\n",
       "<table border=\"1\" class=\"dataframe\">\n",
       "  <thead>\n",
       "    <tr style=\"text-align: right;\">\n",
       "      <th></th>\n",
       "      <th>index</th>\n",
       "      <th>sentence</th>\n",
       "      <th>summary</th>\n",
       "      <th>text</th>\n",
       "    </tr>\n",
       "  </thead>\n",
       "  <tbody>\n",
       "    <tr>\n",
       "      <th>0</th>\n",
       "      <td>0</td>\n",
       "      <td>Patient with hypertension, syncope, and spinal...</td>\n",
       "      <td>The patient has hypertension, syncope, and spi...</td>\n",
       "      <td>Patient with hypertension, syncope, and spinal...</td>\n",
       "    </tr>\n",
       "    <tr>\n",
       "      <th>1</th>\n",
       "      <td>0</td>\n",
       "      <td>The patient is a 78-year-old female who return...</td>\n",
       "      <td>A 78-year-old female returns for a recheck aft...</td>\n",
       "      <td>Patient with hypertension, syncope, and spinal...</td>\n",
       "    </tr>\n",
       "    <tr>\n",
       "      <th>2</th>\n",
       "      <td>0</td>\n",
       "      <td>She has hypertension.</td>\n",
       "      <td>The patient has hypertension.</td>\n",
       "      <td>Patient with hypertension, syncope, and spinal...</td>\n",
       "    </tr>\n",
       "    <tr>\n",
       "      <th>3</th>\n",
       "      <td>0</td>\n",
       "      <td>She denies difficulty with chest pain, palpati...</td>\n",
       "      <td>The patient denies any difficulty with chest p...</td>\n",
       "      <td>Patient with hypertension, syncope, and spinal...</td>\n",
       "    </tr>\n",
       "  </tbody>\n",
       "</table>\n",
       "</div>"
      ]
     },
     "metadata": {
      "application/vnd.databricks.v1+output": {
       "addedWidgets": {},
       "arguments": {},
       "data": "<div>\n<style scoped>\n    .dataframe tbody tr th:only-of-type {\n        vertical-align: middle;\n    }\n\n    .dataframe tbody tr th {\n        vertical-align: top;\n    }\n\n    .dataframe thead th {\n        text-align: right;\n    }\n</style>\n<table border=\"1\" class=\"dataframe\">\n  <thead>\n    <tr style=\"text-align: right;\">\n      <th></th>\n      <th>index</th>\n      <th>sentence</th>\n      <th>summary</th>\n      <th>text</th>\n    </tr>\n  </thead>\n  <tbody>\n    <tr>\n      <th>0</th>\n      <td>0</td>\n      <td>Patient with hypertension, syncope, and spinal...</td>\n      <td>The patient has hypertension, syncope, and spi...</td>\n      <td>Patient with hypertension, syncope, and spinal...</td>\n    </tr>\n    <tr>\n      <th>1</th>\n      <td>0</td>\n      <td>The patient is a 78-year-old female who return...</td>\n      <td>A 78-year-old female returns for a recheck aft...</td>\n      <td>Patient with hypertension, syncope, and spinal...</td>\n    </tr>\n    <tr>\n      <th>2</th>\n      <td>0</td>\n      <td>She has hypertension.</td>\n      <td>The patient has hypertension.</td>\n      <td>Patient with hypertension, syncope, and spinal...</td>\n    </tr>\n    <tr>\n      <th>3</th>\n      <td>0</td>\n      <td>She denies difficulty with chest pain, palpati...</td>\n      <td>The patient denies any difficulty with chest p...</td>\n      <td>Patient with hypertension, syncope, and spinal...</td>\n    </tr>\n  </tbody>\n</table>\n</div>",
       "datasetInfos": [],
       "metadata": {},
       "removedWidgets": [],
       "textData": null,
       "type": "htmlSandbox"
      }
     },
     "output_type": "display_data"
    }
   ],
   "source": [
    "# Deploy & Query summarizer model https://nlp.johnsnowlabs.com/2023/03/25/summarizer_clinical_jsl.html \n",
    "nlp.query_and_deploy_if_missing('en.summarize.clinical_jsl',long_text,workload_size='Large')\n"
   ]
  },
  {
   "cell_type": "markdown",
   "metadata": {
    "application/vnd.databricks.v1+cell": {
     "cellMetadata": {
      "byteLimit": 2048000,
      "rowLimit": 10000
     },
     "inputWidgets": {},
     "nuid": "92febe30-157d-4071-9b1f-ffcc2f524afc",
     "showTitle": false,
     "title": ""
    }
   },
   "source": [
    "# 3) Deploying&Query Custom Pipelines"
   ]
  },
  {
   "cell_type": "code",
   "execution_count": 0,
   "metadata": {
    "application/vnd.databricks.v1+cell": {
     "cellMetadata": {
      "byteLimit": 2048000,
      "rowLimit": 10000
     },
     "inputWidgets": {},
     "nuid": "cd65798b-6a61-4005-8ab7-2e894abd99ae",
     "showTitle": false,
     "title": ""
    }
   },
   "outputs": [
    {
     "output_type": "display_data",
     "data": {
      "text/html": [
       "<style scoped>\n",
       "  .ansiout {\n",
       "    display: block;\n",
       "    unicode-bidi: embed;\n",
       "    white-space: pre-wrap;\n",
       "    word-wrap: break-word;\n",
       "    word-break: break-all;\n",
       "    font-family: \"Source Code Pro\", \"Menlo\", monospace;;\n",
       "    font-size: 13px;\n",
       "    color: #555;\n",
       "    margin-left: 4px;\n",
       "    line-height: 19px;\n",
       "  }\n",
       "</style>\n",
       "<div class=\"ansiout\">Warning::Spark Session already created, some configs may not take.\n",
       "Model already has been logged, skipping logging and using latest. Set re_create_model=True if you want to cre-create it\n",
       "Endpoint custom_pipe_ENDPOINT already exists!  Set re_create_endpoint=True if you want to re-create it \n",
       "Out[14]: </div>"
      ]
     },
     "metadata": {
      "application/vnd.databricks.v1+output": {
       "addedWidgets": {},
       "arguments": {},
       "data": "<div class=\"ansiout\">Warning::Spark Session already created, some configs may not take.\nModel already has been logged, skipping logging and using latest. Set re_create_model=True if you want to cre-create it\nEndpoint custom_pipe_ENDPOINT already exists!  Set re_create_endpoint=True if you want to re-create it \nOut[14]: </div>",
       "datasetInfos": [],
       "metadata": {},
       "removedWidgets": [],
       "type": "html"
      }
     },
     "output_type": "display_data"
    },
    {
     "output_type": "display_data",
     "data": {
      "text/html": [
       "<div>\n",
       "<style scoped>\n",
       "    .dataframe tbody tr th:only-of-type {\n",
       "        vertical-align: middle;\n",
       "    }\n",
       "\n",
       "    .dataframe tbody tr th {\n",
       "        vertical-align: top;\n",
       "    }\n",
       "\n",
       "    .dataframe thead th {\n",
       "        text-align: right;\n",
       "    }\n",
       "</style>\n",
       "<table border=\"1\" class=\"dataframe\">\n",
       "  <thead>\n",
       "    <tr style=\"text-align: right;\">\n",
       "      <th></th>\n",
       "      <th>index</th>\n",
       "      <th>text</th>\n",
       "      <th>token</th>\n",
       "    </tr>\n",
       "  </thead>\n",
       "  <tbody>\n",
       "    <tr>\n",
       "      <th>0</th>\n",
       "      <td>0</td>\n",
       "      <td>This is</td>\n",
       "      <td>This</td>\n",
       "    </tr>\n",
       "    <tr>\n",
       "      <th>1</th>\n",
       "      <td>0</td>\n",
       "      <td>This is</td>\n",
       "      <td>is</td>\n",
       "    </tr>\n",
       "    <tr>\n",
       "      <th>2</th>\n",
       "      <td>1</td>\n",
       "      <td>my custom pipe</td>\n",
       "      <td>my</td>\n",
       "    </tr>\n",
       "    <tr>\n",
       "      <th>3</th>\n",
       "      <td>1</td>\n",
       "      <td>my custom pipe</td>\n",
       "      <td>custom</td>\n",
       "    </tr>\n",
       "    <tr>\n",
       "      <th>4</th>\n",
       "      <td>1</td>\n",
       "      <td>my custom pipe</td>\n",
       "      <td>pipe</td>\n",
       "    </tr>\n",
       "    <tr>\n",
       "      <th>5</th>\n",
       "      <td>2</td>\n",
       "      <td>and data for it</td>\n",
       "      <td>and</td>\n",
       "    </tr>\n",
       "    <tr>\n",
       "      <th>6</th>\n",
       "      <td>2</td>\n",
       "      <td>and data for it</td>\n",
       "      <td>data</td>\n",
       "    </tr>\n",
       "    <tr>\n",
       "      <th>7</th>\n",
       "      <td>2</td>\n",
       "      <td>and data for it</td>\n",
       "      <td>for</td>\n",
       "    </tr>\n",
       "    <tr>\n",
       "      <th>8</th>\n",
       "      <td>2</td>\n",
       "      <td>and data for it</td>\n",
       "      <td>it</td>\n",
       "    </tr>\n",
       "  </tbody>\n",
       "</table>\n",
       "</div>"
      ]
     },
     "metadata": {
      "application/vnd.databricks.v1+output": {
       "addedWidgets": {},
       "arguments": {},
       "data": "<div>\n<style scoped>\n    .dataframe tbody tr th:only-of-type {\n        vertical-align: middle;\n    }\n\n    .dataframe tbody tr th {\n        vertical-align: top;\n    }\n\n    .dataframe thead th {\n        text-align: right;\n    }\n</style>\n<table border=\"1\" class=\"dataframe\">\n  <thead>\n    <tr style=\"text-align: right;\">\n      <th></th>\n      <th>index</th>\n      <th>text</th>\n      <th>token</th>\n    </tr>\n  </thead>\n  <tbody>\n    <tr>\n      <th>0</th>\n      <td>0</td>\n      <td>This is</td>\n      <td>This</td>\n    </tr>\n    <tr>\n      <th>1</th>\n      <td>0</td>\n      <td>This is</td>\n      <td>is</td>\n    </tr>\n    <tr>\n      <th>2</th>\n      <td>1</td>\n      <td>my custom pipe</td>\n      <td>my</td>\n    </tr>\n    <tr>\n      <th>3</th>\n      <td>1</td>\n      <td>my custom pipe</td>\n      <td>custom</td>\n    </tr>\n    <tr>\n      <th>4</th>\n      <td>1</td>\n      <td>my custom pipe</td>\n      <td>pipe</td>\n    </tr>\n    <tr>\n      <th>5</th>\n      <td>2</td>\n      <td>and data for it</td>\n      <td>and</td>\n    </tr>\n    <tr>\n      <th>6</th>\n      <td>2</td>\n      <td>and data for it</td>\n      <td>data</td>\n    </tr>\n    <tr>\n      <th>7</th>\n      <td>2</td>\n      <td>and data for it</td>\n      <td>for</td>\n    </tr>\n    <tr>\n      <th>8</th>\n      <td>2</td>\n      <td>and data for it</td>\n      <td>it</td>\n    </tr>\n  </tbody>\n</table>\n</div>",
       "datasetInfos": [],
       "metadata": {},
       "removedWidgets": [],
       "textData": null,
       "type": "htmlSandbox"
      }
     },
     "output_type": "display_data"
    }
   ],
   "source": [
    "# Example of simple custom Pipeline\n",
    "documentAssembler = nlp.DocumentAssembler().setInputCol(\"text\").setOutputCol(\"document\")\n",
    "tokenizer = nlp.Tokenizer().setInputCols(\"document\").setOutputCol(\"token\")\n",
    "fitted_pipe = nlp.Pipeline(\n",
    "    stages=[documentAssembler, tokenizer]).fit(\n",
    "        spark.createDataFrame([[\"\"]]).toDF(\"text\"))\n",
    "nlp.query_and_deploy_if_missing(fitted_pipe,['This is ', 'my custom pipe', 'and data for it'],base_name='custom_pipe')\n"
   ]
  },
  {
   "cell_type": "code",
   "execution_count": 0,
   "metadata": {
    "application/vnd.databricks.v1+cell": {
     "cellMetadata": {
      "byteLimit": 2048000,
      "rowLimit": 10000
     },
     "inputWidgets": {},
     "nuid": "914e3bf8-cf56-4bb8-bcad-96413f5bb266",
     "showTitle": false,
     "title": ""
    }
   },
   "outputs": [
    {
     "output_type": "display_data",
     "data": {
      "text/html": [
       "<style scoped>\n",
       "  .ansiout {\n",
       "    display: block;\n",
       "    unicode-bidi: embed;\n",
       "    white-space: pre-wrap;\n",
       "    word-wrap: break-word;\n",
       "    word-break: break-all;\n",
       "    font-family: \"Source Code Pro\", \"Menlo\", monospace;;\n",
       "    font-size: 13px;\n",
       "    color: #555;\n",
       "    margin-left: 4px;\n",
       "    line-height: 19px;\n",
       "  }\n",
       "</style>\n",
       "<div class=\"ansiout\">Warning::Spark Session already created, some configs may not take.\n",
       "Model already has been logged, skipping logging and using latest. Set re_create_model=True if you want to cre-create it\n",
       "Endpoint complex_custom_pipe_ENDPOINT already exists!  Set re_create_endpoint=True if you want to re-create it \n",
       "Out[25]: </div>"
      ]
     },
     "metadata": {
      "application/vnd.databricks.v1+output": {
       "addedWidgets": {},
       "arguments": {},
       "data": "<div class=\"ansiout\">Warning::Spark Session already created, some configs may not take.\nModel already has been logged, skipping logging and using latest. Set re_create_model=True if you want to cre-create it\nEndpoint complex_custom_pipe_ENDPOINT already exists!  Set re_create_endpoint=True if you want to re-create it \nOut[25]: </div>",
       "datasetInfos": [],
       "metadata": {},
       "removedWidgets": [],
       "type": "html"
      }
     },
     "output_type": "display_data"
    },
    {
     "output_type": "display_data",
     "data": {
      "text/html": [
       "<div>\n",
       "<style scoped>\n",
       "    .dataframe tbody tr th:only-of-type {\n",
       "        vertical-align: middle;\n",
       "    }\n",
       "\n",
       "    .dataframe tbody tr th {\n",
       "        vertical-align: top;\n",
       "    }\n",
       "\n",
       "    .dataframe thead th {\n",
       "        text-align: right;\n",
       "    }\n",
       "</style>\n",
       "<table border=\"1\" class=\"dataframe\">\n",
       "  <thead>\n",
       "    <tr style=\"text-align: right;\">\n",
       "      <th></th>\n",
       "      <th>index</th>\n",
       "      <th>assertion</th>\n",
       "      <th>assertion_confidence</th>\n",
       "      <th>assertion_id</th>\n",
       "      <th>begin</th>\n",
       "      <th>chunk</th>\n",
       "      <th>chunk_id</th>\n",
       "      <th>chunk_num</th>\n",
       "      <th>document</th>\n",
       "      <th>end</th>\n",
       "      <th>entity</th>\n",
       "      <th>label</th>\n",
       "      <th>sent_begin</th>\n",
       "      <th>sent_end</th>\n",
       "      <th>sentence_id</th>\n",
       "      <th>task_id</th>\n",
       "      <th>text</th>\n",
       "      <th>tkn_end</th>\n",
       "      <th>tkn_start</th>\n",
       "      <th>word_embedding_from_disk</th>\n",
       "    </tr>\n",
       "  </thead>\n",
       "  <tbody>\n",
       "    <tr>\n",
       "      <th>0</th>\n",
       "      <td>0</td>\n",
       "      <td>1</td>\n",
       "      <td>0.8519</td>\n",
       "      <td>1</td>\n",
       "      <td>0</td>\n",
       "      <td>Lorem</td>\n",
       "      <td>1</td>\n",
       "      <td>1</td>\n",
       "      <td>Lorem</td>\n",
       "      <td>1</td>\n",
       "      <td>A</td>\n",
       "      <td>0</td>\n",
       "      <td>0</td>\n",
       "      <td>3</td>\n",
       "      <td>1</td>\n",
       "      <td>1</td>\n",
       "      <td>Lorem</td>\n",
       "      <td>1</td>\n",
       "      <td>0</td>\n",
       "      <td>[[-0.028802, 0.1998700052, -0.3181200027, 0.21...</td>\n",
       "    </tr>\n",
       "  </tbody>\n",
       "</table>\n",
       "</div>"
      ]
     },
     "metadata": {
      "application/vnd.databricks.v1+output": {
       "addedWidgets": {},
       "arguments": {},
       "data": "<div>\n<style scoped>\n    .dataframe tbody tr th:only-of-type {\n        vertical-align: middle;\n    }\n\n    .dataframe tbody tr th {\n        vertical-align: top;\n    }\n\n    .dataframe thead th {\n        text-align: right;\n    }\n</style>\n<table border=\"1\" class=\"dataframe\">\n  <thead>\n    <tr style=\"text-align: right;\">\n      <th></th>\n      <th>index</th>\n      <th>assertion</th>\n      <th>assertion_confidence</th>\n      <th>assertion_id</th>\n      <th>begin</th>\n      <th>chunk</th>\n      <th>chunk_id</th>\n      <th>chunk_num</th>\n      <th>document</th>\n      <th>end</th>\n      <th>entity</th>\n      <th>label</th>\n      <th>sent_begin</th>\n      <th>sent_end</th>\n      <th>sentence_id</th>\n      <th>task_id</th>\n      <th>text</th>\n      <th>tkn_end</th>\n      <th>tkn_start</th>\n      <th>word_embedding_from_disk</th>\n    </tr>\n  </thead>\n  <tbody>\n    <tr>\n      <th>0</th>\n      <td>0</td>\n      <td>1</td>\n      <td>0.8519</td>\n      <td>1</td>\n      <td>0</td>\n      <td>Lorem</td>\n      <td>1</td>\n      <td>1</td>\n      <td>Lorem</td>\n      <td>1</td>\n      <td>A</td>\n      <td>0</td>\n      <td>0</td>\n      <td>3</td>\n      <td>1</td>\n      <td>1</td>\n      <td>Lorem</td>\n      <td>1</td>\n      <td>0</td>\n      <td>[[-0.028802, 0.1998700052, -0.3181200027, 0.21...</td>\n    </tr>\n  </tbody>\n</table>\n</div>",
       "datasetInfos": [],
       "metadata": {},
       "removedWidgets": [],
       "textData": null,
       "type": "htmlSandbox"
      }
     },
     "output_type": "display_data"
    }
   ],
   "source": [
    "# Example of complex custom pipe\n",
    "# This pipe is expecting multiple external input features \n",
    "# You must provide them when when sending query\n",
    "import pandas as pd\n",
    "from johnsnowlabs import nlp,medical\n",
    "from pyspark.sql import SparkSession\n",
    "# Dummy data\n",
    "dummy_data = {\n",
    "    \"assertion_id\": ['1', '2', '3'],\n",
    "    \"label\": ['0', '1', '0'],\n",
    "    \"begin\": ['0', '0', '0'],\n",
    "    \"chunk_id\": ['1', '2', '3'],\n",
    "    \"entity\": [\"A\", \"B\", \"C\"],\n",
    "    \"chunk_num\": ['1', '2', '3'],\n",
    "    \"chunk\": [\"Lorem\", \"ipsum\", \"dolor\"],\n",
    "    \"end\": ['1', '1', '1'],\n",
    "    \"sentence_id\": ['1', '1', '2'],\n",
    "    \"text\": [\"Lorem ipsum\", \"dolor sit\", \"amet\"],\n",
    "    \"sent_begin\": ['0', '0', '0'],\n",
    "    \"sent_end\": ['3', '3', '3'],\n",
    "    \"task_id\": ['1', '2', '1'],\n",
    "    \"tkn_start\": ['0', '0', '0'],\n",
    "    \"tkn_end\": ['1', '1', '1']\n",
    "}\n",
    "\n",
    "\n",
    "# Create Spark DataFrame\n",
    "df = spark.createDataFrame(pd.DataFrame(dummy_data))\n",
    "\n",
    "\n",
    "document = nlp.DocumentAssembler()\\\n",
    "    .setInputCol(\"text\")\\\n",
    "    .setOutputCol(\"document\")\n",
    "\n",
    "chunk = nlp.Doc2Chunk()\\\n",
    "    .setInputCols(\"document\")\\\n",
    "    .setOutputCol(\"assertion_chunk\")\\\n",
    "    .setChunkCol(\"chunk\")\\\n",
    "    .setStartCol(\"tkn_start\")\\\n",
    "    .setStartColByTokenIndex(True)\\\n",
    "    .setFailOnMissing(False)\\\n",
    "    .setLowerCase(False)\n",
    "\n",
    "token = nlp.Tokenizer()\\\n",
    "    .setInputCols(['document'])\\\n",
    "    .setOutputCol('token')\\\n",
    "    .setContextChars([' ', '_', '/', '.', '(', ')', ':', ',', '-', ''',''', '\"', '\"', '\"', '\\'', ';', '#', '{', '}', '[', ']', '*', '!', '?', '+'])\n",
    "embeddings = (\n",
    "        nlp.WordEmbeddingsModel.pretrained()\n",
    "            .setInputCols([\"document\", \"token\"])\n",
    "            .setOutputCol(\"embeddings\")\n",
    "    )\n",
    "\n",
    "assertionStatus = medical.AssertionDLApproach()\\\n",
    "    .setLabelCol(\"label\")\\\n",
    "    .setInputCols(\"document\", \"assertion_chunk\", \"embeddings\")\\\n",
    "    .setOutputCol(\"prediction\")\\\n",
    "    .setBatchSize(32)\\\n",
    "    .setDropout(0.2)\\\n",
    "    .setLearningRate(0.001)\\\n",
    "    .setEpochs(1)\\\n",
    "    .setValidationSplit(0.2)\\\n",
    "    .setStartCol(\"tkn_start\")\\\n",
    "    .setEndCol(\"tkn_end\")\\\n",
    "    .setScopeWindow([12,9])\\\n",
    "    .setIncludeConfidence(True)\\\n",
    "    .setEnableOutputLogs(True)\\\n",
    "    .setOutputLogsPath('../assertion/logs/mlflow/')\n",
    "\n",
    "\n",
    "fitted_pipe = nlp.Pipeline(\n",
    "    stages = [\n",
    "    document,\n",
    "    chunk,\n",
    "    token,\n",
    "    embeddings,\n",
    "    assertionStatus]).fit(df)\n",
    "\n",
    "json_query = \"\"\"\n",
    "{\n",
    "  \"dataframe_split\": {\n",
    "  \"columns\": [\"assertion_id\", \"label\", \"begin\", \"chunk_id\", \"entity\", \"chunk_num\", \"chunk\", \"end\", \"sentence_id\", \"text\", \"sent_begin\", \"sent_end\", \"task_id\", \"tkn_start\", \"tkn_end\"],\n",
    "  \"data\": [[\"1\", \"0\", \"0\", \"1\", \"A\", \"1\", \"Lorem\", \"1\", \"1\", \"Lorem\", \"0\", \"3\", \"1\", \"0\", \"1\"]]\n",
    "}\n",
    "}\n",
    "\"\"\"\n",
    "nlp.query_and_deploy_if_missing(fitted_pipe,json_query,base_name='complex_custom_pipe',is_json_query=True,workload_size='Large')"
   ]
  },
  {
   "cell_type": "markdown",
   "metadata": {
    "application/vnd.databricks.v1+cell": {
     "cellMetadata": {
      "byteLimit": 2048000,
      "rowLimit": 10000
     },
     "inputWidgets": {},
     "nuid": "016ec44e-70cd-4bf1-b502-820fb303116d",
     "showTitle": false,
     "title": ""
    }
   },
   "source": [
    "# 3) Delete all endpoints\n",
    "\n",
    "# You can uncomment and run this to clean up all endpoints"
   ]
  },
  {
   "cell_type": "code",
   "execution_count": 0,
   "metadata": {
    "application/vnd.databricks.v1+cell": {
     "cellMetadata": {
      "byteLimit": 2048000,
      "rowLimit": 10000
     },
     "inputWidgets": {},
     "nuid": "142ee3eb-7d63-4558-9399-23d115c6f6bb",
     "showTitle": false,
     "title": ""
    }
   },
   "outputs": [
    {
     "output_type": "display_data",
     "data": {
      "text/html": [
       "<style scoped>\n",
       "  .ansiout {\n",
       "    display: block;\n",
       "    unicode-bidi: embed;\n",
       "    white-space: pre-wrap;\n",
       "    word-wrap: break-word;\n",
       "    word-break: break-all;\n",
       "    font-family: \"Source Code Pro\", \"Menlo\", monospace;;\n",
       "    font-size: 13px;\n",
       "    color: #555;\n",
       "    margin-left: 4px;\n",
       "    line-height: 19px;\n",
       "  }\n",
       "</style>\n",
       "<div class=\"ansiout\"></div>"
      ]
     },
     "metadata": {
      "application/vnd.databricks.v1+output": {
       "addedWidgets": {},
       "arguments": {},
       "data": "<div class=\"ansiout\"></div>",
       "datasetInfos": [],
       "metadata": {},
       "removedWidgets": [],
       "type": "html"
      }
     },
     "output_type": "display_data"
    }
   ],
   "source": [
    "from johnsnowlabs.auto_install.databricks.endpoints import *\n",
    "# delete_all_endpoints()"
   ]
  }
 ],
 "metadata": {
  "application/vnd.databricks.v1+notebook": {
   "dashboards": [],
   "language": "python",
   "notebookMetadata": {
    "pythonIndentUnit": 4
   },
   "notebookName": "johnsnowlabs_endpoints_tutorial_PUBLIC",
   "widgets": {}
  }
 },
 "nbformat": 4,
 "nbformat_minor": 0
}
