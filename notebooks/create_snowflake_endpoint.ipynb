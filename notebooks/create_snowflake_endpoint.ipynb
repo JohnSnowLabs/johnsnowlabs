{
 "cells": [
  {
   "metadata": {},
   "cell_type": "markdown",
   "source": [
    " ## Creating a Snowflake UDF from almost any johnsnowlabs model\n",
    "\n",
    "Prerequisites:\n",
    "- [Docker](https://www.docker.com/) installed  \n",
    "- [snowflake-connector-python](https://pypi.org/project/snowflake-connector-python/) library installed, i.e run `pip install snowflake-connector-python` and access to Snowflake user, password, account-url and acces to `ACCOUNTADMIN` role\n",
    "- [johnsnowlabs](https://pypi.org/project/johnsnowlabs) library installed i.e `pip install johnsnowlabs`\n",
    "\n",
    "\n",
    "\n",
    "Common issues:\n",
    "```\n",
    " snowflake.connector.errors.ProgrammingError: 000606 (57P03): No active warehouse selected in the current session.  Select an active warehouse with the 'use warehouse' command.\n",
    "```\n",
    "1. Add a default warehouse in user settings via Snowflake UI\n",
    "2. Add default role ACOCUNTADMIN in user settings via Snowflake UI\n"
   ],
   "id": "a621b540a2bb8ba5"
  },
  {
   "metadata": {
    "ExecuteTime": {
     "end_time": "2024-11-10T13:09:14.966196Z",
     "start_time": "2024-11-10T13:09:14.960996Z"
    }
   },
   "cell_type": "code",
   "source": [
    "from tests.utilsz import secrets\n",
    "import os\n",
    "# fill this in with your credentials\n",
    "os.environ['SNOWFLAKE_USER'] = 'MY_SNOWFLAKE_USER'\n",
    "os.environ['SNOWFLAKE_PASSWORD'] = 'MY_SNOWFLAKE_PASSWORD'\n",
    "os.environ['SNOWFLAKE_ACCOUNT'] = 'MY_SNOWFLAKE_ACCOUNT' # i.e abc123.us-west-2\n",
    "\n",
    "from tests.utilsz import secrets\n",
    "import os\n",
    "os.environ['SNOWFLAKE_USER'] = secrets.snowflake_user\n",
    "os.environ['SNOWFLAKE_PASSWORD'] = secrets.snowflake_password\n",
    "os.environ['SNOWFLAKE_ACCOUNT'] = secrets.snowflake_account # 'ekb84445.us-west-2' \n"
   ],
   "id": "8fd6c37a81f9a29a",
   "outputs": [],
   "execution_count": 1
  },
  {
   "cell_type": "code",
   "id": "initial_id",
   "metadata": {
    "collapsed": true,
    "ExecuteTime": {
     "end_time": "2024-11-10T13:11:13.519666Z",
     "start_time": "2024-11-10T13:09:15.699811Z"
    }
   },
   "source": [
    "from johnsnowlabs import nlp\n",
    "\n",
    "# Create common setup\n",
    "# https://docs.snowflake.com/en/developer-guide/snowpark-container-services/tutorials/common-setup#introduction \n",
    "role_name, db_name, warehouse_name, schema_name, compute_pool_name, repo_url = nlp.snowflake_common_setup(\n",
    "    snowflake_user=os.environ['SNOWFLAKE_USER'],\n",
    "    snowflake_account=os.environ['SNOWFLAKE_ACCOUNT'],\n",
    "    snowflake_password=os.environ['SNOWFLAKE_PASSWORD'],\n",
    ")\n",
    "\n",
    "# Create a container, test it locally, login to repo and push\n",
    "model_to_deploy = 'tokenize'\n",
    "udf_name = nlp.deploy_as_snowflake_udf(\n",
    "    model_to_deploy,\n",
    "    repo_url=repo_url,\n",
    "    role_name=role_name,\n",
    "    database_name=db_name,\n",
    "    warehouse_name=warehouse_name,\n",
    "    schema_name=schema_name,\n",
    "    compute_pool_name=compute_pool_name,\n",
    "    snowflake_user=os.environ['SNOWFLAKE_USER'],\n",
    "    snowflake_account=os.environ['SNOWFLAKE_ACCOUNT'],\n",
    "    snowflake_password=os.environ['SNOWFLAKE_PASSWORD'],\n",
    ")\n"
   ],
   "outputs": [
    {
     "name": "stdout",
     "output_type": "stream",
     "text": [
      "Created Role test_role and access granted to christian2\n",
      "Created Database tutorial_db\n",
      "Created Warehouse tutorial_warehouse\n",
      "Created Compute Pool tutorial_compute_pool\n",
      "Created Schema data_schema\n",
      "Created Repository tutorial_repository\n",
      "Created Stage tutorial_stage\n",
      "[(datetime.datetime(2024, 1, 23, 14, 31, 0, 500000, tzinfo=<DstTzInfo 'America/Los_Angeles' PST-1 day, 16:00:00 STD>), 'TUTORIAL_REPOSITORY', 'TUTORIAL_DB', 'DATA_SCHEMA', 'a0524544206961-vzb99979.registry.snowflakecomputing.com/tutorial_db/data_schema/tutorial_repository', 'TEST_ROLE', 'ROLE', '')]\n",
      "Created Snowflake Container Repository a0524544206961-vzb99979.registry.snowflakecomputing.com/tutorial_db/data_schema/tutorial_repository\n",
      "👷 Executing \u001B[92mdocker image rm -f tokenize-img\u001B[39m\n",
      "\u001B[92m✅ Success running ['docker image rm -f tokenize-img']\u001B[39m\n",
      "Image 'tokenize-img' destroyed.\n",
      "📋 Loading license number 0 from /home/ckl/.johnsnowlabs/licenses/license_number_{number}_for_Spark-Healthcare_Spark-OCR.json\n",
      "👷 Executing \u001B[92mcd /home/ckl/Documents/freelance/freelance/johnsnowlabs_MASTER/johnsnowlabs/auto_install/docker/build && docker build -f generated_dockerfile . -t tokenize-img\u001B[39m\n",
      "\u001B[92m✅ Success running ['cd /home/ckl/Documents/freelance/freelance/johnsnowlabs_MASTER/johnsnowlabs/auto_install/docker/build && docker build -f generated_dockerfile . -t tokenize-img']\u001B[39m\n",
      "Container 'tokenize_container' does not exist.\n",
      "👷 Executing \u001B[92mdocker run --name tokenize_container -p 6645:80 -d tokenize-img\u001B[39m\n",
      "\u001B[92m✅ Success running ['docker run --name tokenize_container -p 6645:80 -d tokenize-img']\u001B[39m\n",
      "STDOUT: 338a6f4ba56438290910905b247170d15aefdf3dda4dfcfa07be47775272f85c\n",
      "\n",
      "BATCH PREDICTION UNPARAMETERIZED:\n",
      "{\"document\":{\"0\":\"Your text that you want to predict with the model goes here\",\"1\":\"More text can go here and will be interpreted as 2nd row\"},\"origin_index\":{\"0\":0,\"1\":1},\"sentence\":{\"0\":[\"Your text that you want to predict with the model goes here\"],\"1\":[\"More text can go here and will be interpreted as 2nd row\"]},\"token\":{\"0\":[\"Your\",\"text\",\"that\",\"you\",\"want\",\"to\",\"predict\",\"with\",\"the\",\"model\",\"goes\",\"here\"],\"1\":[\"More\",\"text\",\"can\",\"go\",\"here\",\"and\",\"will\",\"be\",\"interpreted\",\"as\",\"2nd\",\"row\"]}}\n",
      "STRING PREDICTION UNPARAMETERIZED:\n",
      "{\"document\":{\"0\":\"Your text that you want to predict with the model goes here\"},\"origin_index\":{\"0\":0},\"sentence\":{\"0\":[\"Your text that you want to predict with the model goes here\"]},\"token\":{\"0\":[\"Your\",\"text\",\"that\",\"you\",\"want\",\"to\",\"predict\",\"with\",\"the\",\"model\",\"goes\",\"here\"]}}\n",
      "STRING PREDICTION PARAMETERIZED:\n",
      "{\"document\":{\"0\":\"Your text that you want to predict with the model goes here\"},\"origin_index\":{\"0\":0},\"sentence\":{\"0\":[\"Your text that you want to predict with the model goes here\"]},\"token\":{\"0\":[\"Your\",\"text\",\"that\",\"you\",\"want\",\"to\",\"predict\",\"with\",\"the\",\"model\",\"goes\",\"here\"]}}\n",
      "NLP Endpoint ok!\n",
      "👷 Executing \u001B[92mdocker container stop tokenize_container\u001B[39m\n",
      "\u001B[92m✅ Success running ['docker container stop tokenize_container']\u001B[39m\n",
      "👷 Executing \u001B[92mdocker container rm -f tokenize_container\u001B[39m\n",
      "\u001B[92m✅ Success running ['docker container rm -f tokenize_container']\u001B[39m\n",
      "Container 'tokenize_container' destroyed.\n",
      "👷 Executing \u001B[92mdocker tag tokenize-img:latest a0524544206961-vzb99979.registry.snowflakecomputing.com/tutorial_db/data_schema/tutorial_repository/tokenize-img:latest\u001B[39m\n",
      "\u001B[92m✅ Success running ['docker tag tokenize-img:latest a0524544206961-vzb99979.registry.snowflakecomputing.com/tutorial_db/data_schema/tutorial_repository/tokenize-img:latest']\u001B[39m\n",
      "Logging into repo a0524544206961-vzb99979.registry.snowflakecomputing.com/tutorial_db/data_schema/tutorial_repository with user christian2\n",
      "STDOUT: Login Succeeded\n",
      "\n",
      "STDERR: WARNING! Your password will be stored unencrypted in /home/ckl/.docker/config.json.\n",
      "Configure a credential helper to remove this warning. See\n",
      "https://docs.docker.com/engine/reference/commandline/login/#credential-stores\n",
      "\n",
      "\n",
      "👷 Executing \u001B[92mdocker push a0524544206961-vzb99979.registry.snowflakecomputing.com/tutorial_db/data_schema/tutorial_repository/tokenize-img:latest\u001B[39m\n",
      "\u001B[92m✅ Success running ['docker push a0524544206961-vzb99979.registry.snowflakecomputing.com/tutorial_db/data_schema/tutorial_repository/tokenize-img:latest']\u001B[39m\n",
      "STDOUT: The push refers to repository [a0524544206961-vzb99979.registry.snowflakecomputing.com/tutorial_db/data_schema/tutorial_repository/tokenize-img]\n",
      "eef3e8d22f2d: Preparing\n",
      "5f70bf18a086: Preparing\n",
      "ff28dca8f79e: Preparing\n",
      "4cbab721c139: Preparing\n",
      "fc6f2988ee01: Preparing\n",
      "9b1e40234f58: Preparing\n",
      "b41a15b3c037: Preparing\n",
      "7b4ff232f946: Preparing\n",
      "d1a8f2e80519: Preparing\n",
      "51ba43bd7e6b: Preparing\n",
      "104fc3630831: Preparing\n",
      "ac1262ecc055: Preparing\n",
      "5f70bf18a086: Preparing\n",
      "fffe76c64ef2: Preparing\n",
      "b41a15b3c037: Waiting\n",
      "d1a8f2e80519: Waiting\n",
      "51ba43bd7e6b: Waiting\n",
      "7b4ff232f946: Waiting\n",
      "104fc3630831: Waiting\n",
      "fffe76c64ef2: Waiting\n",
      "ac1262ecc055: Waiting\n",
      "9b1e40234f58: Waiting\n",
      "5f70bf18a086: Layer already exists\n",
      "4cbab721c139: Layer already exists\n",
      "fc6f2988ee01: Layer already exists\n",
      "ff28dca8f79e: Layer already exists\n",
      "eef3e8d22f2d: Layer already exists\n",
      "9b1e40234f58: Layer already exists\n",
      "b41a15b3c037: Layer already exists\n",
      "51ba43bd7e6b: Layer already exists\n",
      "7b4ff232f946: Layer already exists\n",
      "d1a8f2e80519: Layer already exists\n",
      "ac1262ecc055: Layer already exists\n",
      "fffe76c64ef2: Layer already exists\n",
      "104fc3630831: Layer already exists\n",
      "latest: digest: sha256:d1d90c185a3c8bff715380e0a979e07735a47b2e875738dd8e0dc47b545fd4fc size: 3241\n",
      "\n",
      "Starting Snowflake Procedure\n",
      "('Statement executed successfully.',)\n",
      "service created\n",
      "Created Service tokenize_service\n",
      "State of tokenize_service is PENDING. Waiting for service creation...\n",
      "('Statement executed successfully.',)\n",
      "Created UDF tokenize_udf\n",
      "testing UDF...\n",
      "{'document': 'Hello this is my data', 'index': 0, 'origin_index': 0, 'sentence': ['Hello this is my data'], 'token': ['Hello', 'this', 'is', 'my', 'data']}\n"
     ]
    }
   ],
   "execution_count": 2
  },
  {
   "metadata": {},
   "cell_type": "markdown",
   "source": [
    "## Lets query the UDF via Snowflake client.\n",
    "The next two cells  can be run inside a Snowflake based Notebook or Python script or locally"
   ],
   "id": "564d05c3cef223c7"
  },
  {
   "metadata": {
    "ExecuteTime": {
     "end_time": "2024-11-10T13:11:43.079427Z",
     "start_time": "2024-11-10T13:11:42.133345Z"
    }
   },
   "cell_type": "code",
   "source": [
    "import snowflake.connector\n",
    "conn = snowflake.connector.connect(\n",
    "    user=secrets.snowflake_user,\n",
    "    password=secrets.snowflake_password,\n",
    "    account=secrets.snowflake_account,\n",
    "    warehouse=warehouse_name,\n",
    "    database=db_name,\n",
    "    schema=schema_name,\n",
    "    role=role_name,\n",
    ")"
   ],
   "id": "33ecc3d7242100f4",
   "outputs": [],
   "execution_count": 3
  },
  {
   "metadata": {
    "ExecuteTime": {
     "end_time": "2024-11-10T13:11:45.868257Z",
     "start_time": "2024-11-10T13:11:45.378166Z"
    }
   },
   "cell_type": "code",
   "source": [
    "import json\n",
    "\n",
    "data = 'hello World'\n",
    "cmd_query_udf = f\"\"\"SELECT {udf_name}('{data}')\"\"\"\n",
    "cur = conn.cursor()\n",
    "cur.execute(cmd_query_udf.format(data=data))\n",
    "for row in cur:\n",
    "    data = json.loads(row[0])\n",
    "    print(data)\n",
    "cur.close()"
   ],
   "id": "3776f5d82d7e898f",
   "outputs": [
    {
     "name": "stdout",
     "output_type": "stream",
     "text": [
      "{'document': 'hello World', 'index': 0, 'origin_index': 0, 'sentence': ['hello World'], 'token': ['hello', 'World']}\n"
     ]
    },
    {
     "data": {
      "text/plain": [
       "True"
      ]
     },
     "execution_count": 4,
     "metadata": {},
     "output_type": "execute_result"
    }
   ],
   "execution_count": 4
  },
  {
   "metadata": {},
   "cell_type": "markdown",
   "source": "## Lets create a licensed model endpoint\n",
   "id": "1bee290d0cf497cc"
  },
  {
   "metadata": {
    "ExecuteTime": {
     "end_time": "2024-11-10T13:15:06.262056Z",
     "start_time": "2024-11-10T13:12:07.279167Z"
    }
   },
   "cell_type": "code",
   "source": [
    "from tests.utilsz import secrets\n",
    "from johnsnowlabs import nlp\n",
    "\n",
    "# Create common setup\n",
    "role_name, db_name, warehouse_name, schema_name, compute_pool_name, repo_url = nlp.snowflake_common_setup(\n",
    "    secrets.snowflake_user, secrets.snowflake_account, secrets.snowflake_password,\n",
    ")\n",
    "\n",
    "license = '/home/ckl/Downloads/license.json'\n",
    "# Create a container, test it locally, login to repo and push\n",
    "model = 'en.explain_doc.clinical_granular'  \n",
    "udf_name = nlp.deploy_as_snowflake_udf(model,\n",
    "                                       repo_url=repo_url,\n",
    "                                       role_name=role_name,\n",
    "                                       database_name=db_name,\n",
    "                                       warehouse_name=warehouse_name,\n",
    "                                       schema_name=schema_name,\n",
    "                                       compute_pool_name=compute_pool_name,\n",
    "                                       snowflake_user=os.environ['SNOWFLAKE_USER'],\n",
    "                                       snowflake_account=os.environ['SNOWFLAKE_ACCOUNT'],\n",
    "                                       snowflake_password=os.environ['SNOWFLAKE_PASSWORD'],\n",
    "                                       license_path=license,\n",
    "                                       )\n"
   ],
   "id": "40ed2e557150762",
   "outputs": [
    {
     "name": "stdout",
     "output_type": "stream",
     "text": [
      "Created Role test_role and access granted to christian2\n",
      "Created Database tutorial_db\n",
      "Created Warehouse tutorial_warehouse\n",
      "Created Compute Pool tutorial_compute_pool\n",
      "Created Schema data_schema\n",
      "Created Repository tutorial_repository\n",
      "Created Stage tutorial_stage\n",
      "[(datetime.datetime(2024, 1, 23, 14, 31, 0, 500000, tzinfo=<DstTzInfo 'America/Los_Angeles' PST-1 day, 16:00:00 STD>), 'TUTORIAL_REPOSITORY', 'TUTORIAL_DB', 'DATA_SCHEMA', 'a0524544206961-vzb99979.registry.snowflakecomputing.com/tutorial_db/data_schema/tutorial_repository', 'TEST_ROLE', 'ROLE', '')]\n",
      "Created Snowflake Container Repository a0524544206961-vzb99979.registry.snowflakecomputing.com/tutorial_db/data_schema/tutorial_repository\n",
      "👷 Executing \u001B[92mdocker image rm -f en-explain-doc-clinical-granular-img\u001B[39m\n",
      "\u001B[92m✅ Success running ['docker image rm -f en-explain-doc-clinical-granular-img']\u001B[39m\n",
      "Image 'en-explain-doc-clinical-granular-img' destroyed.\n",
      "👌 License info detected in file /home/ckl/Downloads/license.json\n",
      "👷 Executing \u001B[92mcd /home/ckl/Documents/freelance/freelance/johnsnowlabs_MASTER/johnsnowlabs/auto_install/docker/build && docker build -f generated_dockerfile . -t en-explain-doc-clinical-granular-img\u001B[39m\n",
      "\u001B[92m✅ Success running ['cd /home/ckl/Documents/freelance/freelance/johnsnowlabs_MASTER/johnsnowlabs/auto_install/docker/build && docker build -f generated_dockerfile . -t en-explain-doc-clinical-granular-img']\u001B[39m\n",
      "Container 'en-explain-doc-clinical-granular_container' does not exist.\n",
      "👷 Executing \u001B[92mdocker run --name en-explain-doc-clinical-granular_container -p 6645:80 -d en-explain-doc-clinical-granular-img\u001B[39m\n",
      "\u001B[92m✅ Success running ['docker run --name en-explain-doc-clinical-granular_container -p 6645:80 -d en-explain-doc-clinical-granular-img']\u001B[39m\n",
      "STDOUT: 83df84a728aa97777f5ff01d433dc958d93153942cb7d1ef9aa241714813e684\n",
      "\n",
      "BATCH PREDICTION UNPARAMETERIZED:\n",
      "{\"assertion\":{\"0\":[],\"1\":[]},\"document\":{\"0\":\"Your text that you want to predict with the model goes here\",\"1\":\"More text can go here and will be interpreted as 2nd row\"},\"entities_assertion_ner_chunk\":{\"0\":[],\"1\":[]},\"entities_jsl_ner_chunk\":{\"0\":[],\"1\":[]},\"origin_index\":{\"0\":0,\"1\":1},\"pos\":{\"0\":[\"NN\",\"NN\",\"PNR\",\"VVZ\",\"JJ\",\"II\",\"VVI\",\"II\",\"DD\",\"NN\",\"NN\",\"RR\"],\"1\":[\"RR\",\"NN\",\"VM\",\"VVB\",\"RR\",\"CC\",\"VM\",\"VBB\",\"VVN\",\"II\",\"MC\",\"NN\"]},\"posology_relations\":{\"0\":[],\"1\":[]},\"sentence_dl\":{\"0\":[\"Your text that you want to predict with the model goes here\"],\"1\":[\"More text can go here and will be interpreted as 2nd row\"]},\"test_result_date_relations\":{\"0\":[],\"1\":[]},\"token\":{\"0\":[\"Your\",\"text\",\"that\",\"you\",\"want\",\"to\",\"predict\",\"with\",\"the\",\"model\",\"goes\",\"here\"],\"1\":[\"More\",\"text\",\"can\",\"go\",\"here\",\"and\",\"will\",\"be\",\"interpreted\",\"as\",\"2nd\",\"row\"]},\"unlabeled_dependency\":{\"0\":[\"text\",\"want\",\"want\",\"want\",\"ROOT\",\"predict\",\"want\",\"goes\",\"goes\",\"goes\",\"predict\",\"goes\"],\"1\":[\"text\",\"go\",\"go\",\"ROOT\",\"go\",\"interpreted\",\"interpreted\",\"interpreted\",\"go\",\"row\",\"row\",\"interpreted\"]}}\n",
      "STRING PREDICTION UNPARAMETERIZED:\n",
      "{\"assertion\":{\"0\":[]},\"document\":{\"0\":\"Your text that you want to predict with the model goes here\"},\"entities_assertion_ner_chunk\":{\"0\":[]},\"entities_jsl_ner_chunk\":{\"0\":[]},\"origin_index\":{\"0\":0},\"pos\":{\"0\":[\"NN\",\"NN\",\"PNR\",\"VVZ\",\"JJ\",\"II\",\"VVI\",\"II\",\"DD\",\"NN\",\"NN\",\"RR\"]},\"posology_relations\":{\"0\":[]},\"sentence_dl\":{\"0\":[\"Your text that you want to predict with the model goes here\"]},\"test_result_date_relations\":{\"0\":[]},\"token\":{\"0\":[\"Your\",\"text\",\"that\",\"you\",\"want\",\"to\",\"predict\",\"with\",\"the\",\"model\",\"goes\",\"here\"]},\"unlabeled_dependency\":{\"0\":[\"text\",\"want\",\"want\",\"want\",\"ROOT\",\"predict\",\"want\",\"goes\",\"goes\",\"goes\",\"predict\",\"goes\"]}}\n",
      "STRING PREDICTION PARAMETERIZED:\n",
      "{\"assertion\":{\"0\":[]},\"document\":{\"0\":\"Your text that you want to predict with the model goes here\"},\"entities_assertion_ner_chunk\":{\"0\":[]},\"entities_jsl_ner_chunk\":{\"0\":[]},\"origin_index\":{\"0\":0},\"pos\":{\"0\":[\"NN\",\"NN\",\"PNR\",\"VVZ\",\"JJ\",\"II\",\"VVI\",\"II\",\"DD\",\"NN\",\"NN\",\"RR\"]},\"posology_relations\":{\"0\":[]},\"sentence_dl\":{\"0\":[\"Your text that you want to predict with the model goes here\"]},\"test_result_date_relations\":{\"0\":[]},\"token\":{\"0\":[\"Your\",\"text\",\"that\",\"you\",\"want\",\"to\",\"predict\",\"with\",\"the\",\"model\",\"goes\",\"here\"]},\"unlabeled_dependency\":{\"0\":[\"text\",\"want\",\"want\",\"want\",\"ROOT\",\"predict\",\"want\",\"goes\",\"goes\",\"goes\",\"predict\",\"goes\"]}}\n",
      "NLP Endpoint ok!\n",
      "👷 Executing \u001B[92mdocker container stop en-explain-doc-clinical-granular_container\u001B[39m\n",
      "\u001B[92m✅ Success running ['docker container stop en-explain-doc-clinical-granular_container']\u001B[39m\n",
      "👷 Executing \u001B[92mdocker container rm -f en-explain-doc-clinical-granular_container\u001B[39m\n",
      "\u001B[92m✅ Success running ['docker container rm -f en-explain-doc-clinical-granular_container']\u001B[39m\n",
      "Container 'en-explain-doc-clinical-granular_container' destroyed.\n",
      "👷 Executing \u001B[92mdocker tag en-explain-doc-clinical-granular-img:latest a0524544206961-vzb99979.registry.snowflakecomputing.com/tutorial_db/data_schema/tutorial_repository/en-explain-doc-clinical-granular-img:latest\u001B[39m\n",
      "\u001B[92m✅ Success running ['docker tag en-explain-doc-clinical-granular-img:latest a0524544206961-vzb99979.registry.snowflakecomputing.com/tutorial_db/data_schema/tutorial_repository/en-explain-doc-clinical-granular-img:latest']\u001B[39m\n",
      "Logging into repo a0524544206961-vzb99979.registry.snowflakecomputing.com/tutorial_db/data_schema/tutorial_repository with user christian2\n",
      "STDOUT: Login Succeeded\n",
      "\n",
      "STDERR: WARNING! Your password will be stored unencrypted in /home/ckl/.docker/config.json.\n",
      "Configure a credential helper to remove this warning. See\n",
      "https://docs.docker.com/engine/reference/commandline/login/#credential-stores\n",
      "\n",
      "\n",
      "👷 Executing \u001B[92mdocker push a0524544206961-vzb99979.registry.snowflakecomputing.com/tutorial_db/data_schema/tutorial_repository/en-explain-doc-clinical-granular-img:latest\u001B[39m\n",
      "\u001B[92m✅ Success running ['docker push a0524544206961-vzb99979.registry.snowflakecomputing.com/tutorial_db/data_schema/tutorial_repository/en-explain-doc-clinical-granular-img:latest']\u001B[39m\n",
      "STDOUT: The push refers to repository [a0524544206961-vzb99979.registry.snowflakecomputing.com/tutorial_db/data_schema/tutorial_repository/en-explain-doc-clinical-granular-img]\n",
      "4303880560e4: Preparing\n",
      "5f70bf18a086: Preparing\n",
      "0fe3fdbbf518: Preparing\n",
      "2e1300461ab8: Preparing\n",
      "20f6e5f0899a: Preparing\n",
      "9e401e6528f6: Preparing\n",
      "f8fc2eb0a02f: Preparing\n",
      "1d39b3294bc0: Preparing\n",
      "f717363f2f3c: Preparing\n",
      "a3d05c6e8bfa: Preparing\n",
      "1cec9e44ebd8: Preparing\n",
      "6a5add73fe73: Preparing\n",
      "5f70bf18a086: Preparing\n",
      "fffe76c64ef2: Preparing\n",
      "f8fc2eb0a02f: Waiting\n",
      "1d39b3294bc0: Waiting\n",
      "f717363f2f3c: Waiting\n",
      "a3d05c6e8bfa: Waiting\n",
      "1cec9e44ebd8: Waiting\n",
      "6a5add73fe73: Waiting\n",
      "fffe76c64ef2: Waiting\n",
      "9e401e6528f6: Waiting\n",
      "5f70bf18a086: Layer already exists\n",
      "20f6e5f0899a: Layer already exists\n",
      "2e1300461ab8: Layer already exists\n",
      "4303880560e4: Layer already exists\n",
      "0fe3fdbbf518: Layer already exists\n",
      "1d39b3294bc0: Layer already exists\n",
      "9e401e6528f6: Layer already exists\n",
      "f8fc2eb0a02f: Layer already exists\n",
      "f717363f2f3c: Layer already exists\n",
      "a3d05c6e8bfa: Layer already exists\n",
      "fffe76c64ef2: Layer already exists\n",
      "6a5add73fe73: Layer already exists\n",
      "1cec9e44ebd8: Layer already exists\n",
      "latest: digest: sha256:9d2a5915d13b5a3ab8a825f27db5e8968b95b442c89209363fadb99347b6e9dc size: 3241\n",
      "\n",
      "Starting Snowflake Procedure\n",
      "('Statement executed successfully.',)\n",
      "service created\n",
      "Created Service en_explain_doc_clinical_granular_service\n",
      "State of en_explain_doc_clinical_granular_service is PENDING. Waiting for service creation...\n",
      "State of en_explain_doc_clinical_granular_service is PENDING. Waiting for service creation...\n",
      "('Statement executed successfully.',)\n",
      "Created UDF en_explain_doc_clinical_granular_udf\n",
      "testing UDF...\n",
      "{'assertion': [], 'document': 'Hello this is my data ', 'entities_assertion_ner_chunk': [], 'entities_jsl_ner_chunk': [], 'index': 0, 'origin_index': 0, 'pos': ['NN', 'PND', 'VBZ', 'JJ', 'NNS'], 'posology_relations': [], 'sentence_dl': ['Hello this is my data'], 'test_result_date_relations': [], 'token': ['Hello', 'this', 'is', 'my', 'data'], 'unlabeled_dependency': ['ROOT', 'data', 'data', 'data', 'Hello']}\n"
     ]
    }
   ],
   "execution_count": 5
  },
  {
   "metadata": {
    "ExecuteTime": {
     "end_time": "2024-11-10T13:15:07.228261Z",
     "start_time": "2024-11-10T13:15:06.280030Z"
    }
   },
   "cell_type": "code",
   "source": [
    "import snowflake.connector\n",
    "\n",
    "conn = snowflake.connector.connect(\n",
    "    user=secrets.snowflake_user,\n",
    "    password=secrets.snowflake_password,\n",
    "    account=secrets.snowflake_account,\n",
    "    warehouse=warehouse_name,\n",
    "    database=db_name,\n",
    "    schema=schema_name,\n",
    "    role=role_name,\n",
    ")\n"
   ],
   "id": "edea4724ea50bfeb",
   "outputs": [],
   "execution_count": 6
  },
  {
   "metadata": {
    "ExecuteTime": {
     "end_time": "2024-11-10T13:15:11.158118Z",
     "start_time": "2024-11-10T13:15:07.236269Z"
    }
   },
   "cell_type": "code",
   "source": [
    "import json\n",
    "data = \"\"\"\n",
    "The patient admitted for gastrointestinal pathology, under working treatment.\n",
    "History of prior heart murmur with echocardiogram findings as above on March 1998.\n",
    "Echocardiogram from today indicates left ventricular function is normal but left atrial enlargement.\n",
    "Based on the above findings, we will treat her medically with ACE inhibitors 10 mg, p.o, daily. Also we will give Furosemide 40 mg, p.o later and see how she fares.\"\"\"\n",
    "\n",
    "\n",
    "udf_name = 'en_explain_doc_clinical_granular_udf'\n",
    "cmd_query_udf = f\"\"\"SELECT {udf_name}('{data}')\"\"\"\n",
    "cur = conn.cursor()\n",
    "cur.execute(cmd_query_udf.format(data=data))\n",
    "for row in cur:\n",
    "    data = json.loads(row[0])\n",
    "    print(data)\n",
    "cur.close()"
   ],
   "id": "425f46b807d32ba",
   "outputs": [
    {
     "name": "stdout",
     "output_type": "stream",
     "text": [
      "{'all_relations_result': 'is_finding_of', 'assertion': ['Past', 'Past', 'Present', 'Present', 'Present', 'Present', 'Planned', 'Planned'], 'assertion_confidence': ['1.0', '1.0', '1.0', '1.0', '1.0', '1.0', '1.0', '1.0'], 'assertion_origin_chunk': ['Heart_Disease', 'Test', 'Test', 'Test', 'Test_Result', 'Heart_Disease', 'Drug_Ingredient', 'Drug_Ingredient'], 'assertion_origin_sentence': ['1', '1', '2', '2', '2', '2', '3', '4'], 'document': '\\nThe patient admitted for gastrointestinal pathology, under working treatment.\\nHistory of prior heart murmur with echocardiogram findings as above on March 1998.\\nEchocardiogram from today indicates left ventricular function is normal but left atrial enlargement.\\nBased on the above findings, we will treat her medically with ACE inhibitors 10 mg, p.o, daily. Also we will give Furosemide 40 mg, p.o later and see how she fares.', 'entities_assertion_ner_chunk': ['heart murmur', 'echocardiogram', 'Echocardiogram', 'left ventricular function', 'normal', 'left atrial enlargement', 'ACE inhibitors', 'Furosemide'], 'entities_jsl_ner_chunk': ['admitted', 'gastrointestinal pathology', 'heart murmur', 'echocardiogram', 'March 1998', 'Echocardiogram', 'today', 'left ventricular function', 'normal', 'left atrial enlargement', 'her', 'ACE inhibitors', '10 mg', 'p.o', 'daily', 'Furosemide', '40 mg', 'p.o', 'she'], 'entities_jsl_ner_chunk_class': ['Admission_Discharge', 'Clinical_Dept', 'Heart_Disease', 'Test', 'Date', 'Test', 'RelativeDate', 'Test', 'Test_Result', 'Heart_Disease', 'Gender', 'Drug_Ingredient', 'Strength', 'Route', 'Frequency', 'Drug_Ingredient', 'Strength', 'Route', 'Gender'], 'entities_jsl_ner_chunk_confidence': ['0.9993', '0.7198', '0.5289', '0.9935', '0.874', '0.9985', '0.9998', '0.41130003', '0.8551', '0.60116667', '0.9992', '0.91709995', '0.97295', '0.9965', '0.8859', '0.996', '0.9834', '0.9969', '0.9981'], 'entities_jsl_ner_chunk_origin_chunk': ['0', '1', '2', '3', '4', '5', '6', '7', '8', '9', '10', '11', '12', '13', '14', '15', '16', '17', '18'], 'entities_jsl_ner_chunk_origin_sentence': ['0', '0', '1', '1', '1', '2', '2', '2', '2', '2', '3', '3', '3', '3', '3', '4', '4', '4', '4'], 'index': 0, 'origin_index': 0, 'pos': ['DD', 'NN', 'VVN', 'II', 'JJ', 'NN', 'NN', 'II', 'VVGJ', 'NN', 'NN', 'NN', 'II', 'JJ', 'NN', 'NNS', 'II', 'NN', 'NNS', 'II', 'VVB', 'II', 'NN', 'MC', 'NN', 'NN', 'II', 'NN', 'VVZ', 'JJ', 'JJ', 'NN', 'VBZ', 'JJ', 'CC', 'JJ', 'JJ', 'NN', 'NN', 'VVN', 'II', 'DD', 'JJ', 'NNS', 'NN', 'PN', 'VM', 'VVB', 'PNG', 'RR', 'II', 'NN', 'NNS', 'MC', 'NN', 'NN', 'NN', 'NN', 'RR', 'NN', 'RR', 'PN', 'VM', 'VVB', 'NN', 'MC', 'NN', 'NN', 'NN', 'RR', 'CC', 'NN', 'CST', 'PN', 'VVZ', 'NN'], 'posology_relations': ['Drug_Ingredient-Strength', 'Drug_Ingredient-Route', 'Drug_Ingredient-Frequency', 'Drug_Ingredient-Strength', 'Drug_Ingredient-Route'], 'posology_relations_confidence': ['1.0', '1.0', '1.0', '1.0', '1.0'], 'posology_relations_entity1': ['ACE inhibitors', 'ACE inhibitors', 'ACE inhibitors', 'Furosemide', 'Furosemide'], 'posology_relations_entity1_begin': ['325', '325', '325', '377', '377'], 'posology_relations_entity1_class': ['Drug_Ingredient', 'Drug_Ingredient', 'Drug_Ingredient', 'Drug_Ingredient', 'Drug_Ingredient'], 'posology_relations_entity1_end': ['338', '338', '338', '386', '386'], 'posology_relations_entity2': ['10 mg', 'p.o', 'daily', '40 mg', 'p.o'], 'posology_relations_entity2_begin': ['340', '347', '352', '388', '395'], 'posology_relations_entity2_class': ['Strength', 'Route', 'Frequency', 'Strength', 'Route'], 'posology_relations_entity2_end': ['344', '349', '356', '392', '397'], 'posology_relations_origin_sentence': ['3', '3', '3', '4', '4'], 'sentence_dl': ['The patient admitted for gastrointestinal pathology, under working treatment.', 'History of prior heart murmur with echocardiogram findings as above on March 1998.', 'Echocardiogram from today indicates left ventricular function is normal but left atrial enlargement.', 'Based on the above findings, we will treat her medically with ACE inhibitors 10 mg, p.o, daily.', 'Also we will give Furosemide 40 mg, p.o later and see how she fares.'], 'test_result_date_relations': ['is_finding_of', 'is_date_of', 'is_date_of', 'is_date_of', 'O', 'is_finding_of', 'is_date_of', 'is_date_of', 'is_date_of', 'is_result_of', 'is_finding_of'], 'test_result_date_relations_confidence': ['1.0', '1.0', '0.9999999', '1.0', '0.99998415', '1.0', '0.97800374', '0.99999964', '0.997391', '1.0', '1.0'], 'test_result_date_relations_entity1': ['heart murmur', 'heart murmur', 'echocardiogram', 'Echocardiogram', 'Echocardiogram', 'Echocardiogram', 'today', 'today', 'today', 'left ventricular function', 'left ventricular function'], 'test_result_date_relations_entity1_begin': ['96', '96', '114', '162', '162', '162', '182', '182', '182', '198', '198'], 'test_result_date_relations_entity1_class': ['Heart_Disease', 'Heart_Disease', 'Test', 'Test', 'Test', 'Test', 'RelativeDate', 'RelativeDate', 'RelativeDate', 'Test', 'Test'], 'test_result_date_relations_entity1_end': ['107', '107', '127', '175', '175', '175', '186', '186', '186', '222', '222'], 'test_result_date_relations_entity2': ['echocardiogram', 'March 1998', 'March 1998', 'today', 'normal', 'left atrial enlargement', 'left ventricular function', 'normal', 'left atrial enlargement', 'normal', 'left atrial enlargement'], 'test_result_date_relations_entity2_begin': ['114', '150', '150', '182', '227', '238', '198', '227', '238', '227', '238'], 'test_result_date_relations_entity2_class': ['Test', 'Date', 'Date', 'RelativeDate', 'Test_Result', 'Heart_Disease', 'Test', 'Test_Result', 'Heart_Disease', 'Test_Result', 'Heart_Disease'], 'test_result_date_relations_entity2_end': ['127', '159', '159', '186', '232', '260', '222', '232', '260', '232', '260'], 'test_result_date_relations_origin_sentence': ['1', '1', '1', '2', '2', '2', '2', '2', '2', '2', '2'], 'token': ['The', 'patient', 'admitted', 'for', 'gastrointestinal', 'pathology', ',', 'under', 'working', 'treatment', '.', 'History', 'of', 'prior', 'heart', 'murmur', 'with', 'echocardiogram', 'findings', 'as', 'above', 'on', 'March', '1998', '.', 'Echocardiogram', 'from', 'today', 'indicates', 'left', 'ventricular', 'function', 'is', 'normal', 'but', 'left', 'atrial', 'enlargement', '.', 'Based', 'on', 'the', 'above', 'findings', ',', 'we', 'will', 'treat', 'her', 'medically', 'with', 'ACE', 'inhibitors', '10', 'mg', ',', 'p.o', ',', 'daily', '.', 'Also', 'we', 'will', 'give', 'Furosemide', '40', 'mg', ',', 'p.o', 'later', 'and', 'see', 'how', 'she', 'fares', '.'], 'unlabeled_dependency': ['admitted', 'admitted', 'ROOT', 'pathology', 'pathology', 'admitted', 'admitted', 'treatment', 'treatment', 'admitted', 'admitted', 'ROOT', 'heart', 'heart', 'History', 'heart', 'findings', 'findings', 'murmur', 'March', 'as', 'March', 'History', 'March', 'History', 'ROOT', 'indicates', 'indicates', 'Echocardiogram', 'normal', 'function', 'normal', 'normal', 'indicates', 'enlargement', 'enlargement', 'enlargement', 'normal', 'Echocardiogram', 'treat', 'findings', 'findings', 'findings', 'Based', 'treat', 'treat', 'treat', 'ROOT', 'medically', 'treat', 'inhibitors', 'inhibitors', 'medically', 'mg', 'inhibitors', 'p.o', 'mg', 'daily', 'p.o', 'treat', 'give', 'give', 'give', 'ROOT', 'give', 'mg', 'Furosemide', 'p.o', 'mg', 'p.o', 'see', 'p.o', 'fares', 'fares', 'see', 'give']}\n"
     ]
    },
    {
     "data": {
      "text/plain": [
       "True"
      ]
     },
     "execution_count": 7,
     "metadata": {},
     "output_type": "execute_result"
    }
   ],
   "execution_count": 7
  },
  {
   "metadata": {},
   "cell_type": "code",
   "outputs": [],
   "execution_count": null,
   "source": "",
   "id": "8b190a6aaa7a94ad"
  }
 ],
 "metadata": {
  "kernelspec": {
   "display_name": "Python 3",
   "language": "python",
   "name": "python3"
  },
  "language_info": {
   "codemirror_mode": {
    "name": "ipython",
    "version": 2
   },
   "file_extension": ".py",
   "mimetype": "text/x-python",
   "name": "python",
   "nbconvert_exporter": "python",
   "pygments_lexer": "ipython2",
   "version": "2.7.6"
  }
 },
 "nbformat": 4,
 "nbformat_minor": 5
}
